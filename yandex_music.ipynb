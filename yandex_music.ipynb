{
 "cells": [
  {
   "cell_type": "markdown",
   "metadata": {
    "deletable": false,
    "editable": false,
    "id": "E0vqbgi9ay0H"
   },
   "source": [
    "# Яндекс Музыка"
   ]
  },
  {
   "cell_type": "markdown",
   "metadata": {
    "deletable": false,
    "editable": false,
    "id": "VUC88oWjTJw2"
   },
   "source": [
    "Сравнение Москвы и Петербурга окружено мифами. Например:\n",
    " * Москва — мегаполис, подчинённый жёсткому ритму рабочей недели;\n",
    " * Петербург — культурная столица, со своими вкусами.\n",
    "\n",
    "На данных Яндекс Музыки вы сравните поведение пользователей двух столиц.\n",
    "\n",
    "**Цель исследования** — проверьте три гипотезы:\n",
    "1. Активность пользователей зависит от дня недели. Причём в Москве и Петербурге это проявляется по-разному.\n",
    "2. В понедельник утром в Москве преобладают одни жанры, а в Петербурге — другие. Так же и вечером пятницы преобладают разные жанры — в зависимости от города. \n",
    "3. Москва и Петербург предпочитают разные жанры музыки. В Москве чаще слушают поп-музыку, в Петербурге — русский рэп.\n",
    "\n",
    "**Ход исследования**\n",
    "\n",
    "Данные о поведении пользователей вы получите из файла `yandex_music_project.csv`. О качестве данных ничего не известно. Поэтому перед проверкой гипотез понадобится обзор данных. \n",
    "\n",
    "Вы проверите данные на ошибки и оцените их влияние на исследование. Затем, на этапе предобработки вы поищете возможность исправить самые критичные ошибки данных.\n",
    " \n",
    "Таким образом, исследование пройдёт в три этапа:\n",
    " 1. Обзор данных.\n",
    " 2. Предобработка данных.\n",
    " 3. Проверка гипотез.\n",
    "\n"
   ]
  },
  {
   "cell_type": "markdown",
   "metadata": {
    "deletable": false,
    "editable": false,
    "id": "Ml1hmfXC_Zcs"
   },
   "source": [
    "## Обзор данных\n",
    "\n",
    "Составьте первое представление о данных Яндекс Музыки.\n",
    "\n",
    "\n"
   ]
  },
  {
   "cell_type": "markdown",
   "metadata": {
    "deletable": false,
    "editable": false,
    "id": "57eAOGIz_Zcs",
    "tags": [
     "start_task"
    ]
   },
   "source": [
    "**Задание 1**\n",
    "\n",
    "Основной инструмент аналитика — `pandas`. Импортируйте эту библиотеку."
   ]
  },
  {
   "cell_type": "code",
   "execution_count": 113,
   "metadata": {
    "deletable": false,
    "id": "AXN7PHPN_Zcs"
   },
   "outputs": [],
   "source": [
    "# импорт библиотеки pandas\n",
    "import pandas as pd"
   ]
  },
  {
   "cell_type": "markdown",
   "metadata": {
    "deletable": false,
    "editable": false,
    "id": "SG23P8tt_Zcs",
    "tags": [
     "start_task"
    ]
   },
   "source": [
    "**Задание 2**\n",
    "\n",
    "Прочитайте файл `yandex_music_project.csv` из папки `/datasets` и сохраните его в переменной `df`:"
   ]
  },
  {
   "cell_type": "code",
   "execution_count": 114,
   "metadata": {
    "deletable": false,
    "id": "fFVu7vqh_Zct"
   },
   "outputs": [],
   "source": [
    "# чтение файла с данными и сохранение в df\n",
    "df = pd.read_csv('/datasets/yandex_music_project.csv')\n"
   ]
  },
  {
   "cell_type": "markdown",
   "metadata": {
    "deletable": false,
    "editable": false,
    "id": "rDoOMd3uTqnZ",
    "tags": [
     "start_task"
    ]
   },
   "source": [
    "**Задание 3**\n",
    "\n",
    "\n",
    "Выведите на экран первые десять строк таблицы:"
   ]
  },
  {
   "cell_type": "code",
   "execution_count": 115,
   "metadata": {
    "deletable": false,
    "id": "oWTVX3gW_Zct"
   },
   "outputs": [
    {
     "data": {
      "text/html": [
       "<div>\n",
       "<style scoped>\n",
       "    .dataframe tbody tr th:only-of-type {\n",
       "        vertical-align: middle;\n",
       "    }\n",
       "\n",
       "    .dataframe tbody tr th {\n",
       "        vertical-align: top;\n",
       "    }\n",
       "\n",
       "    .dataframe thead th {\n",
       "        text-align: right;\n",
       "    }\n",
       "</style>\n",
       "<table border=\"1\" class=\"dataframe\">\n",
       "  <thead>\n",
       "    <tr style=\"text-align: right;\">\n",
       "      <th></th>\n",
       "      <th>userID</th>\n",
       "      <th>Track</th>\n",
       "      <th>artist</th>\n",
       "      <th>genre</th>\n",
       "      <th>City</th>\n",
       "      <th>time</th>\n",
       "      <th>Day</th>\n",
       "    </tr>\n",
       "  </thead>\n",
       "  <tbody>\n",
       "    <tr>\n",
       "      <th>0</th>\n",
       "      <td>FFB692EC</td>\n",
       "      <td>Kamigata To Boots</td>\n",
       "      <td>The Mass Missile</td>\n",
       "      <td>rock</td>\n",
       "      <td>Saint-Petersburg</td>\n",
       "      <td>20:28:33</td>\n",
       "      <td>Wednesday</td>\n",
       "    </tr>\n",
       "    <tr>\n",
       "      <th>1</th>\n",
       "      <td>55204538</td>\n",
       "      <td>Delayed Because of Accident</td>\n",
       "      <td>Andreas Rönnberg</td>\n",
       "      <td>rock</td>\n",
       "      <td>Moscow</td>\n",
       "      <td>14:07:09</td>\n",
       "      <td>Friday</td>\n",
       "    </tr>\n",
       "    <tr>\n",
       "      <th>2</th>\n",
       "      <td>20EC38</td>\n",
       "      <td>Funiculì funiculà</td>\n",
       "      <td>Mario Lanza</td>\n",
       "      <td>pop</td>\n",
       "      <td>Saint-Petersburg</td>\n",
       "      <td>20:58:07</td>\n",
       "      <td>Wednesday</td>\n",
       "    </tr>\n",
       "    <tr>\n",
       "      <th>3</th>\n",
       "      <td>A3DD03C9</td>\n",
       "      <td>Dragons in the Sunset</td>\n",
       "      <td>Fire + Ice</td>\n",
       "      <td>folk</td>\n",
       "      <td>Saint-Petersburg</td>\n",
       "      <td>08:37:09</td>\n",
       "      <td>Monday</td>\n",
       "    </tr>\n",
       "    <tr>\n",
       "      <th>4</th>\n",
       "      <td>E2DC1FAE</td>\n",
       "      <td>Soul People</td>\n",
       "      <td>Space Echo</td>\n",
       "      <td>dance</td>\n",
       "      <td>Moscow</td>\n",
       "      <td>08:34:34</td>\n",
       "      <td>Monday</td>\n",
       "    </tr>\n",
       "    <tr>\n",
       "      <th>5</th>\n",
       "      <td>842029A1</td>\n",
       "      <td>Преданная</td>\n",
       "      <td>IMPERVTOR</td>\n",
       "      <td>rusrap</td>\n",
       "      <td>Saint-Petersburg</td>\n",
       "      <td>13:09:41</td>\n",
       "      <td>Friday</td>\n",
       "    </tr>\n",
       "    <tr>\n",
       "      <th>6</th>\n",
       "      <td>4CB90AA5</td>\n",
       "      <td>True</td>\n",
       "      <td>Roman Messer</td>\n",
       "      <td>dance</td>\n",
       "      <td>Moscow</td>\n",
       "      <td>13:00:07</td>\n",
       "      <td>Wednesday</td>\n",
       "    </tr>\n",
       "    <tr>\n",
       "      <th>7</th>\n",
       "      <td>F03E1C1F</td>\n",
       "      <td>Feeling This Way</td>\n",
       "      <td>Polina Griffith</td>\n",
       "      <td>dance</td>\n",
       "      <td>Moscow</td>\n",
       "      <td>20:47:49</td>\n",
       "      <td>Wednesday</td>\n",
       "    </tr>\n",
       "    <tr>\n",
       "      <th>8</th>\n",
       "      <td>8FA1D3BE</td>\n",
       "      <td>И вновь продолжается бой</td>\n",
       "      <td>NaN</td>\n",
       "      <td>ruspop</td>\n",
       "      <td>Moscow</td>\n",
       "      <td>09:17:40</td>\n",
       "      <td>Friday</td>\n",
       "    </tr>\n",
       "    <tr>\n",
       "      <th>9</th>\n",
       "      <td>E772D5C0</td>\n",
       "      <td>Pessimist</td>\n",
       "      <td>NaN</td>\n",
       "      <td>dance</td>\n",
       "      <td>Saint-Petersburg</td>\n",
       "      <td>21:20:49</td>\n",
       "      <td>Wednesday</td>\n",
       "    </tr>\n",
       "  </tbody>\n",
       "</table>\n",
       "</div>"
      ],
      "text/plain": [
       "     userID                        Track            artist   genre  \\\n",
       "0  FFB692EC            Kamigata To Boots  The Mass Missile    rock   \n",
       "1  55204538  Delayed Because of Accident  Andreas Rönnberg    rock   \n",
       "2    20EC38            Funiculì funiculà       Mario Lanza     pop   \n",
       "3  A3DD03C9        Dragons in the Sunset        Fire + Ice    folk   \n",
       "4  E2DC1FAE                  Soul People        Space Echo   dance   \n",
       "5  842029A1                    Преданная         IMPERVTOR  rusrap   \n",
       "6  4CB90AA5                         True      Roman Messer   dance   \n",
       "7  F03E1C1F             Feeling This Way   Polina Griffith   dance   \n",
       "8  8FA1D3BE     И вновь продолжается бой               NaN  ruspop   \n",
       "9  E772D5C0                    Pessimist               NaN   dance   \n",
       "\n",
       "             City        time        Day  \n",
       "0  Saint-Petersburg  20:28:33  Wednesday  \n",
       "1            Moscow  14:07:09     Friday  \n",
       "2  Saint-Petersburg  20:58:07  Wednesday  \n",
       "3  Saint-Petersburg  08:37:09     Monday  \n",
       "4            Moscow  08:34:34     Monday  \n",
       "5  Saint-Petersburg  13:09:41     Friday  \n",
       "6            Moscow  13:00:07  Wednesday  \n",
       "7            Moscow  20:47:49  Wednesday  \n",
       "8            Moscow  09:17:40     Friday  \n",
       "9  Saint-Petersburg  21:20:49  Wednesday  "
      ]
     },
     "execution_count": 115,
     "metadata": {},
     "output_type": "execute_result"
    }
   ],
   "source": [
    "# получение первых 10 строк таблицы df\n",
    "df.head(10)"
   ]
  },
  {
   "cell_type": "markdown",
   "metadata": {
    "deletable": false,
    "editable": false,
    "id": "EO73Kwic_Zct",
    "tags": [
     "start_task"
    ]
   },
   "source": [
    "**Задание 4**\n",
    "\n",
    "\n",
    "Одной командой получить общую информацию о таблице c помощью метода `info()`:"
   ]
  },
  {
   "cell_type": "code",
   "execution_count": 116,
   "metadata": {
    "deletable": false,
    "id": "DSf2kIb-_Zct"
   },
   "outputs": [
    {
     "name": "stdout",
     "output_type": "stream",
     "text": [
      "<class 'pandas.core.frame.DataFrame'>\n",
      "RangeIndex: 65079 entries, 0 to 65078\n",
      "Data columns (total 7 columns):\n",
      " #   Column    Non-Null Count  Dtype \n",
      "---  ------    --------------  ----- \n",
      " 0     userID  65079 non-null  object\n",
      " 1   Track     63848 non-null  object\n",
      " 2   artist    57876 non-null  object\n",
      " 3   genre     63881 non-null  object\n",
      " 4     City    65079 non-null  object\n",
      " 5   time      65079 non-null  object\n",
      " 6   Day       65079 non-null  object\n",
      "dtypes: object(7)\n",
      "memory usage: 3.5+ MB\n"
     ]
    }
   ],
   "source": [
    "# получение общей информации о данных в таблице df\n",
    "df.info()"
   ]
  },
  {
   "cell_type": "markdown",
   "metadata": {
    "deletable": false,
    "editable": false,
    "id": "TaQ2Iwbr_Zct"
   },
   "source": [
    "Итак, в таблице семь столбцов. Тип данных во всех столбцах — `object`.\n",
    "\n",
    "Согласно документации к данным:\n",
    "* `userID` — идентификатор пользователя;\n",
    "* `Track` — название трека;  \n",
    "* `artist` — имя исполнителя;\n",
    "* `genre` — название жанра;\n",
    "* `City` — город пользователя;\n",
    "* `time` — время начала прослушивания;\n",
    "* `Day` — день недели.\n",
    "\n",
    "Количество значений в столбцах различается. Значит, в данных есть пропущенные значения."
   ]
  },
  {
   "cell_type": "markdown",
   "metadata": {
    "deletable": false,
    "editable": false,
    "id": "rAfziTBDmf2h",
    "tags": [
     "start_task"
    ]
   },
   "source": [
    "**Задание 5**\n",
    "\n",
    "**Вопрос со свободной формой ответа**\n",
    "\n",
    "В названиях колонок видны нарушения стиля:\n",
    "* Строчные буквы сочетаются с прописными.\n",
    "* Встречаются пробелы.\n",
    "\n",
    "Какое третье нарушение?"
   ]
  },
  {
   "cell_type": "code",
   "execution_count": 117,
   "metadata": {
    "id": "jD8EXEIvmf2h"
   },
   "outputs": [],
   "source": [
    "# Напишите ваш ответ здесь комментарием. Не удаляйте символ #. Не меняйте тип этой ячейки на Markdown.\n",
    "# в 'user_id' нужно использовать змеиный_регистр"
   ]
  },
  {
   "cell_type": "markdown",
   "metadata": {
    "deletable": false,
    "editable": false,
    "id": "MCB6-dXG_Zct"
   },
   "source": [
    "**Выводы**\n",
    "\n",
    "В каждой строке таблицы — данные о прослушанном треке. Часть колонок описывает саму композицию: название, исполнителя и жанр. Остальные данные рассказывают о пользователе: из какого он города, когда он слушал музыку. \n",
    "\n",
    "Предварительно можно утверждать, что данных достаточно для проверки гипотез. Но встречаются пропуски в данных, а в названиях колонок — расхождения с хорошим стилем.\n",
    "\n",
    "Чтобы двигаться дальше, нужно устранить проблемы в данных."
   ]
  },
  {
   "cell_type": "markdown",
   "metadata": {
    "deletable": false,
    "editable": false,
    "id": "SjYF6Ub9_Zct"
   },
   "source": [
    "## Предобработка данных\n",
    "Исправьте стиль в заголовках столбцов, исключите пропуски. Затем проверьте данные на дубликаты."
   ]
  },
  {
   "cell_type": "markdown",
   "metadata": {
    "deletable": false,
    "editable": false,
    "id": "dIaKXr29_Zct",
    "tags": [
     "start_task"
    ]
   },
   "source": [
    "### Стиль заголовков\n",
    "\n",
    "**Задание 6**\n",
    "\n",
    "Выведите на экран названия столбцов:"
   ]
  },
  {
   "cell_type": "code",
   "execution_count": 118,
   "metadata": {
    "deletable": false,
    "id": "oKOTdF_Q_Zct"
   },
   "outputs": [
    {
     "data": {
      "text/plain": [
       "Index(['  userID', 'Track', 'artist', 'genre', '  City  ', 'time', 'Day'], dtype='object')"
      ]
     },
     "execution_count": 118,
     "metadata": {},
     "output_type": "execute_result"
    }
   ],
   "source": [
    "# перечень названий столбцов таблицы df\n",
    "df.columns"
   ]
  },
  {
   "cell_type": "markdown",
   "metadata": {
    "deletable": false,
    "editable": false,
    "id": "zj5534cv_Zct",
    "tags": [
     "start_task"
    ]
   },
   "source": [
    "**Задание 7**\n",
    "\n",
    "\n",
    "Приведите названия в соответствие с хорошим стилем:\n",
    "* несколько слов в названии запишите в «змеином_регистре»,\n",
    "* все символы сделайте строчными,\n",
    "* устраните пробелы.\n",
    "\n",
    "Для этого переименуйте колонки так:\n",
    "* `'  userID'` → `'user_id'`;\n",
    "* `'Track'` → `'track'`;\n",
    "* `'  City  '` → `'city'`;\n",
    "* `'Day'` → `'day'`."
   ]
  },
  {
   "cell_type": "code",
   "execution_count": 119,
   "metadata": {
    "deletable": false,
    "id": "ISlFqs5y_Zct"
   },
   "outputs": [],
   "source": [
    "# переименование столбцов\n",
    "df = df.rename(\n",
    "columns={\n",
    "'  userID' : 'user_id',\n",
    "'Track' : 'track',\n",
    "'  City  ' : 'city',\n",
    "'Day' : 'day'}\n",
    ")"
   ]
  },
  {
   "cell_type": "markdown",
   "metadata": {
    "deletable": false,
    "editable": false,
    "id": "1dqbh00J_Zct",
    "tags": [
     "start_task"
    ]
   },
   "source": [
    "**Задание 8**\n",
    "\n",
    "\n",
    "Проверьте результат. Для этого ещё раз выведите на экран названия столбцов:"
   ]
  },
  {
   "cell_type": "code",
   "execution_count": 120,
   "metadata": {
    "deletable": false,
    "id": "d4NOAmTW_Zct"
   },
   "outputs": [
    {
     "data": {
      "text/plain": [
       "Index(['user_id', 'track', 'artist', 'genre', 'city', 'time', 'day'], dtype='object')"
      ]
     },
     "execution_count": 120,
     "metadata": {},
     "output_type": "execute_result"
    }
   ],
   "source": [
    "# проверка результатов - перечень названий столбцов\n",
    "df.columns"
   ]
  },
  {
   "cell_type": "markdown",
   "metadata": {
    "deletable": false,
    "editable": false,
    "id": "5ISfbcfY_Zct",
    "tags": [
     "start_task"
    ]
   },
   "source": [
    "### Пропуски значений\n",
    "\n",
    "**Задание 9**\n",
    "\n",
    "Сначала посчитайте, сколько в таблице пропущенных значений. Для этого достаточно двух методов `pandas`:"
   ]
  },
  {
   "cell_type": "code",
   "execution_count": 121,
   "metadata": {
    "deletable": false,
    "id": "RskX29qr_Zct"
   },
   "outputs": [
    {
     "data": {
      "text/plain": [
       "user_id       0\n",
       "track      1231\n",
       "artist     7203\n",
       "genre      1198\n",
       "city          0\n",
       "time          0\n",
       "day           0\n",
       "dtype: int64"
      ]
     },
     "execution_count": 121,
     "metadata": {},
     "output_type": "execute_result"
    }
   ],
   "source": [
    "# подсчёт пропусков\n",
    "df.isna().sum()"
   ]
  },
  {
   "cell_type": "markdown",
   "metadata": {
    "deletable": false,
    "editable": false,
    "id": "qubhgnlO_Zct"
   },
   "source": [
    "Не все пропущенные значения влияют на исследование. Так в `track` и `artist` пропуски не важны для вашей работы. Достаточно заменить их явными обозначениями.\n",
    "\n",
    "Но пропуски в `genre` могут помешать сравнению музыкальных вкусов в Москве и Санкт-Петербурге. На практике было бы правильно установить причину пропусков и восстановить данные. Такой возможности нет в учебном проекте. Придётся:\n",
    "* заполнить и эти пропуски явными обозначениями;\n",
    "* оценить, насколько они повредят расчётам. "
   ]
  },
  {
   "cell_type": "markdown",
   "metadata": {
    "deletable": false,
    "editable": false,
    "id": "fSv2laPA_Zct",
    "tags": [
     "start_task"
    ]
   },
   "source": [
    "**Задание 10**\n",
    "\n",
    "Замените пропущенные значения в столбцах `track`, `artist` и `genre` на строку `'unknown'`. Для этого создайте список `columns_to_replace`, переберите его элементы циклом `for` и для каждого столбца выполните замену пропущенных значений:"
   ]
  },
  {
   "cell_type": "code",
   "execution_count": 122,
   "metadata": {
    "deletable": false,
    "id": "KplB5qWs_Zct"
   },
   "outputs": [],
   "source": [
    "# перебор названий столбцов в цикле и замена пропущенных значений на 'unknown'\n",
    "columns_to_replace = []\n",
    "for column in df:\n",
    "    df[column] = df[column].fillna('unknown')"
   ]
  },
  {
   "cell_type": "markdown",
   "metadata": {
    "deletable": false,
    "editable": false,
    "id": "Ilsm-MZo_Zct",
    "tags": [
     "start_task"
    ]
   },
   "source": [
    "**Задание 11**\n",
    "\n",
    "Убедитесь, что в таблице не осталось пропусков. Для этого ещё раз посчитайте пропущенные значения."
   ]
  },
  {
   "cell_type": "code",
   "execution_count": 123,
   "metadata": {
    "deletable": false,
    "id": "Tq4nYRX4_Zct"
   },
   "outputs": [
    {
     "data": {
      "text/plain": [
       "user_id    0\n",
       "track      0\n",
       "artist     0\n",
       "genre      0\n",
       "city       0\n",
       "time       0\n",
       "day        0\n",
       "dtype: int64"
      ]
     },
     "execution_count": 123,
     "metadata": {},
     "output_type": "execute_result"
    }
   ],
   "source": [
    "# подсчёт пропусков\n",
    "df.isna().sum()"
   ]
  },
  {
   "cell_type": "markdown",
   "metadata": {
    "deletable": false,
    "editable": false,
    "id": "BWKRtBJ3_Zct",
    "tags": [
     "start_task"
    ]
   },
   "source": [
    "### Дубликаты\n",
    "\n",
    "**Задание 12**\n",
    "\n",
    "Посчитайте явные дубликаты в таблице одной командой:"
   ]
  },
  {
   "cell_type": "code",
   "execution_count": 124,
   "metadata": {
    "deletable": false,
    "id": "36eES_S0_Zct"
   },
   "outputs": [
    {
     "data": {
      "text/plain": [
       "3826"
      ]
     },
     "execution_count": 124,
     "metadata": {},
     "output_type": "execute_result"
    }
   ],
   "source": [
    "# подсчёт явных дубликатов\n",
    "df.duplicated().sum()"
   ]
  },
  {
   "cell_type": "markdown",
   "metadata": {
    "deletable": false,
    "editable": false,
    "id": "Ot25h6XR_Zct",
    "tags": [
     "start_task"
    ]
   },
   "source": [
    "**Задание 13**\n",
    "\n",
    "Вызовите специальный метод `pandas`, чтобы удалить явные дубликаты:"
   ]
  },
  {
   "cell_type": "code",
   "execution_count": 125,
   "metadata": {
    "deletable": false,
    "id": "exFHq6tt_Zct"
   },
   "outputs": [],
   "source": [
    "# удаление явных дубликатов\n",
    "df = df.drop_duplicates().reset_index(drop = True)"
   ]
  },
  {
   "cell_type": "markdown",
   "metadata": {
    "deletable": false,
    "editable": false,
    "id": "Im2YwBEG_Zct",
    "tags": [
     "start_task"
    ]
   },
   "source": [
    "**Задание 14**\n",
    "\n",
    "Ещё раз посчитайте явные дубликаты в таблице — убедитесь, что полностью от них избавились:"
   ]
  },
  {
   "cell_type": "code",
   "execution_count": 126,
   "metadata": {
    "deletable": false,
    "id": "-8PuNWQ0_Zct"
   },
   "outputs": [
    {
     "data": {
      "text/plain": [
       "0"
      ]
     },
     "execution_count": 126,
     "metadata": {},
     "output_type": "execute_result"
    }
   ],
   "source": [
    "# проверка на отсутствие дубликатов\n",
    "df.duplicated().sum()"
   ]
  },
  {
   "cell_type": "markdown",
   "metadata": {
    "deletable": false,
    "editable": false,
    "id": "QlFBsxAr_Zct"
   },
   "source": [
    "Теперь избавьтесь от неявных дубликатов в колонке `genre`. Например, название одного и того же жанра может быть записано немного по-разному. Такие ошибки тоже повлияют на результат исследования."
   ]
  },
  {
   "cell_type": "markdown",
   "metadata": {
    "deletable": false,
    "editable": false,
    "id": "eSjWwsOh_Zct",
    "tags": [
     "start_task"
    ]
   },
   "source": [
    "**Задание 15**\n",
    "\n",
    "Выведите на экран список уникальных названий жанров, отсортированный в алфавитном порядке. Для этого:\n",
    "1. извлеките нужный столбец датафрейма; \n",
    "2. примените к нему метод сортировки;\n",
    "3. для отсортированного столбца вызовите метод, который вернёт уникальные значения из столбца."
   ]
  },
  {
   "cell_type": "code",
   "execution_count": 127,
   "metadata": {
    "deletable": false,
    "id": "JIUcqzZN_Zct"
   },
   "outputs": [
    {
     "data": {
      "text/plain": [
       "array(['acid', 'acoustic', 'action', 'adult', 'africa', 'afrikaans',\n",
       "       'alternative', 'alternativepunk', 'ambient', 'americana',\n",
       "       'animated', 'anime', 'arabesk', 'arabic', 'arena',\n",
       "       'argentinetango', 'art', 'audiobook', 'author', 'avantgarde',\n",
       "       'axé', 'baile', 'balkan', 'beats', 'bigroom', 'black', 'bluegrass',\n",
       "       'blues', 'bollywood', 'bossa', 'brazilian', 'breakbeat', 'breaks',\n",
       "       'broadway', 'cantautori', 'cantopop', 'canzone', 'caribbean',\n",
       "       'caucasian', 'celtic', 'chamber', 'chanson', 'children', 'chill',\n",
       "       'chinese', 'choral', 'christian', 'christmas', 'classical',\n",
       "       'classicmetal', 'club', 'colombian', 'comedy', 'conjazz',\n",
       "       'contemporary', 'country', 'cuban', 'dance', 'dancehall',\n",
       "       'dancepop', 'dark', 'death', 'deep', 'deutschrock', 'deutschspr',\n",
       "       'dirty', 'disco', 'dnb', 'documentary', 'downbeat', 'downtempo',\n",
       "       'drum', 'dub', 'dubstep', 'eastern', 'easy', 'electronic',\n",
       "       'electropop', 'emo', 'entehno', 'epicmetal', 'estrada', 'ethnic',\n",
       "       'eurofolk', 'european', 'experimental', 'extrememetal', 'fado',\n",
       "       'fairytail', 'film', 'fitness', 'flamenco', 'folk', 'folklore',\n",
       "       'folkmetal', 'folkrock', 'folktronica', 'forró', 'frankreich',\n",
       "       'französisch', 'french', 'funk', 'future', 'gangsta', 'garage',\n",
       "       'german', 'ghazal', 'gitarre', 'glitch', 'gospel', 'gothic',\n",
       "       'grime', 'grunge', 'gypsy', 'handsup', \"hard'n'heavy\", 'hardcore',\n",
       "       'hardstyle', 'hardtechno', 'hip', 'hip-hop', 'hiphop',\n",
       "       'historisch', 'holiday', 'hop', 'horror', 'house', 'hymn', 'idm',\n",
       "       'independent', 'indian', 'indie', 'indipop', 'industrial',\n",
       "       'inspirational', 'instrumental', 'international', 'irish', 'jam',\n",
       "       'japanese', 'jazz', 'jewish', 'jpop', 'jungle', 'k-pop',\n",
       "       'karadeniz', 'karaoke', 'kayokyoku', 'korean', 'laiko', 'latin',\n",
       "       'latino', 'leftfield', 'local', 'lounge', 'loungeelectronic',\n",
       "       'lovers', 'malaysian', 'mandopop', 'marschmusik', 'meditative',\n",
       "       'mediterranean', 'melodic', 'metal', 'metalcore', 'mexican',\n",
       "       'middle', 'minimal', 'miscellaneous', 'modern', 'mood', 'mpb',\n",
       "       'muslim', 'native', 'neoklassik', 'neue', 'new', 'newage',\n",
       "       'newwave', 'nu', 'nujazz', 'numetal', 'oceania', 'old', 'opera',\n",
       "       'orchestral', 'other', 'piano', 'podcasts', 'pop', 'popdance',\n",
       "       'popelectronic', 'popeurodance', 'poprussian', 'post',\n",
       "       'posthardcore', 'postrock', 'power', 'progmetal', 'progressive',\n",
       "       'psychedelic', 'punjabi', 'punk', 'quebecois', 'ragga', 'ram',\n",
       "       'rancheras', 'rap', 'rave', 'reggae', 'reggaeton', 'regional',\n",
       "       'relax', 'religious', 'retro', 'rhythm', 'rnb', 'rnr', 'rock',\n",
       "       'rockabilly', 'rockalternative', 'rockindie', 'rockother',\n",
       "       'romance', 'roots', 'ruspop', 'rusrap', 'rusrock', 'russian',\n",
       "       'salsa', 'samba', 'scenic', 'schlager', 'self', 'sertanejo',\n",
       "       'shanson', 'shoegazing', 'showtunes', 'singer', 'ska', 'skarock',\n",
       "       'slow', 'smooth', 'soft', 'soul', 'soulful', 'sound', 'soundtrack',\n",
       "       'southern', 'specialty', 'speech', 'spiritual', 'sport',\n",
       "       'stonerrock', 'surf', 'swing', 'synthpop', 'synthrock',\n",
       "       'sängerportrait', 'tango', 'tanzorchester', 'taraftar', 'tatar',\n",
       "       'tech', 'techno', 'teen', 'thrash', 'top', 'traditional',\n",
       "       'tradjazz', 'trance', 'tribal', 'trip', 'triphop', 'tropical',\n",
       "       'türk', 'türkçe', 'ukrrock', 'unknown', 'urban', 'uzbek',\n",
       "       'variété', 'vi', 'videogame', 'vocal', 'western', 'world',\n",
       "       'worldbeat', 'ïîï', 'электроника'], dtype=object)"
      ]
     },
     "execution_count": 127,
     "metadata": {},
     "output_type": "execute_result"
    }
   ],
   "source": [
    "# Просмотр уникальных названий жанров\n",
    "genre = df['genre'].sort_values().unique()\n",
    "genre\n"
   ]
  },
  {
   "cell_type": "markdown",
   "metadata": {
    "deletable": false,
    "editable": false,
    "id": "qej-Qmuo_Zct",
    "tags": [
     "start_task"
    ]
   },
   "source": [
    "**Задание 16**\n",
    "\n",
    "Просмотрите список и найдите неявные дубликаты названия `hiphop`. Это могут быть названия с ошибками или альтернативные названия того же жанра.\n",
    "\n",
    "Вы увидите следующие неявные дубликаты:\n",
    "* *hip*,\n",
    "* *hop*,\n",
    "* *hip-hop*.\n",
    "\n",
    "Чтобы очистить от них таблицу используйте метод `replace()` с двумя аргументами: списком строк-дубликатов (включащий *hip*, *hop* и *hip-hop*) и строкой с правильным значением. Вам нужно исправить колонку `genre` в таблице `df`: заменить каждое значение из списка дубликатов на верное. Вместо `hip`, `hop` и `hip-hop` в таблице должно быть значение `hiphop`:"
   ]
  },
  {
   "cell_type": "code",
   "execution_count": 128,
   "metadata": {
    "deletable": false,
    "id": "ErNDkmns_Zct"
   },
   "outputs": [],
   "source": [
    "# Устранение неявных дубликатов\n",
    "hiphop = ['hip', 'hop', 'hip-hop']\n",
    "df = df.replace(hiphop, 'hiphop')\n"
   ]
  },
  {
   "cell_type": "markdown",
   "metadata": {
    "deletable": false,
    "editable": false,
    "id": "zQKF16_RG15m",
    "tags": [
     "start_task"
    ]
   },
   "source": [
    "**Задание 17**\n",
    "\n",
    "Проверьте, что заменили неправильные названия:\n",
    "\n",
    "*   hip,\n",
    "*   hop,\n",
    "*   hip-hop.\n",
    "\n",
    "Выведите отсортированный список уникальных значений столбца `genre`:"
   ]
  },
  {
   "cell_type": "code",
   "execution_count": 129,
   "metadata": {
    "deletable": false,
    "id": "wvixALnFG15m"
   },
   "outputs": [
    {
     "data": {
      "text/plain": [
       "array(['acid', 'acoustic', 'action', 'adult', 'africa', 'afrikaans',\n",
       "       'alternative', 'alternativepunk', 'ambient', 'americana',\n",
       "       'animated', 'anime', 'arabesk', 'arabic', 'arena',\n",
       "       'argentinetango', 'art', 'audiobook', 'author', 'avantgarde',\n",
       "       'axé', 'baile', 'balkan', 'beats', 'bigroom', 'black', 'bluegrass',\n",
       "       'blues', 'bollywood', 'bossa', 'brazilian', 'breakbeat', 'breaks',\n",
       "       'broadway', 'cantautori', 'cantopop', 'canzone', 'caribbean',\n",
       "       'caucasian', 'celtic', 'chamber', 'chanson', 'children', 'chill',\n",
       "       'chinese', 'choral', 'christian', 'christmas', 'classical',\n",
       "       'classicmetal', 'club', 'colombian', 'comedy', 'conjazz',\n",
       "       'contemporary', 'country', 'cuban', 'dance', 'dancehall',\n",
       "       'dancepop', 'dark', 'death', 'deep', 'deutschrock', 'deutschspr',\n",
       "       'dirty', 'disco', 'dnb', 'documentary', 'downbeat', 'downtempo',\n",
       "       'drum', 'dub', 'dubstep', 'eastern', 'easy', 'electronic',\n",
       "       'electropop', 'emo', 'entehno', 'epicmetal', 'estrada', 'ethnic',\n",
       "       'eurofolk', 'european', 'experimental', 'extrememetal', 'fado',\n",
       "       'fairytail', 'film', 'fitness', 'flamenco', 'folk', 'folklore',\n",
       "       'folkmetal', 'folkrock', 'folktronica', 'forró', 'frankreich',\n",
       "       'französisch', 'french', 'funk', 'future', 'gangsta', 'garage',\n",
       "       'german', 'ghazal', 'gitarre', 'glitch', 'gospel', 'gothic',\n",
       "       'grime', 'grunge', 'gypsy', 'handsup', \"hard'n'heavy\", 'hardcore',\n",
       "       'hardstyle', 'hardtechno', 'hiphop', 'historisch', 'holiday',\n",
       "       'horror', 'house', 'hymn', 'idm', 'independent', 'indian', 'indie',\n",
       "       'indipop', 'industrial', 'inspirational', 'instrumental',\n",
       "       'international', 'irish', 'jam', 'japanese', 'jazz', 'jewish',\n",
       "       'jpop', 'jungle', 'k-pop', 'karadeniz', 'karaoke', 'kayokyoku',\n",
       "       'korean', 'laiko', 'latin', 'latino', 'leftfield', 'local',\n",
       "       'lounge', 'loungeelectronic', 'lovers', 'malaysian', 'mandopop',\n",
       "       'marschmusik', 'meditative', 'mediterranean', 'melodic', 'metal',\n",
       "       'metalcore', 'mexican', 'middle', 'minimal', 'miscellaneous',\n",
       "       'modern', 'mood', 'mpb', 'muslim', 'native', 'neoklassik', 'neue',\n",
       "       'new', 'newage', 'newwave', 'nu', 'nujazz', 'numetal', 'oceania',\n",
       "       'old', 'opera', 'orchestral', 'other', 'piano', 'podcasts', 'pop',\n",
       "       'popdance', 'popelectronic', 'popeurodance', 'poprussian', 'post',\n",
       "       'posthardcore', 'postrock', 'power', 'progmetal', 'progressive',\n",
       "       'psychedelic', 'punjabi', 'punk', 'quebecois', 'ragga', 'ram',\n",
       "       'rancheras', 'rap', 'rave', 'reggae', 'reggaeton', 'regional',\n",
       "       'relax', 'religious', 'retro', 'rhythm', 'rnb', 'rnr', 'rock',\n",
       "       'rockabilly', 'rockalternative', 'rockindie', 'rockother',\n",
       "       'romance', 'roots', 'ruspop', 'rusrap', 'rusrock', 'russian',\n",
       "       'salsa', 'samba', 'scenic', 'schlager', 'self', 'sertanejo',\n",
       "       'shanson', 'shoegazing', 'showtunes', 'singer', 'ska', 'skarock',\n",
       "       'slow', 'smooth', 'soft', 'soul', 'soulful', 'sound', 'soundtrack',\n",
       "       'southern', 'specialty', 'speech', 'spiritual', 'sport',\n",
       "       'stonerrock', 'surf', 'swing', 'synthpop', 'synthrock',\n",
       "       'sängerportrait', 'tango', 'tanzorchester', 'taraftar', 'tatar',\n",
       "       'tech', 'techno', 'teen', 'thrash', 'top', 'traditional',\n",
       "       'tradjazz', 'trance', 'tribal', 'trip', 'triphop', 'tropical',\n",
       "       'türk', 'türkçe', 'ukrrock', 'unknown', 'urban', 'uzbek',\n",
       "       'variété', 'vi', 'videogame', 'vocal', 'western', 'world',\n",
       "       'worldbeat', 'ïîï', 'электроника'], dtype=object)"
      ]
     },
     "execution_count": 129,
     "metadata": {},
     "output_type": "execute_result"
    }
   ],
   "source": [
    "# Проверка на неявные дубликаты\n",
    "genre = df['genre'].sort_values().unique()\n",
    "genre"
   ]
  },
  {
   "cell_type": "markdown",
   "metadata": {
    "deletable": false,
    "editable": false,
    "id": "jz6a9-7HQUDd"
   },
   "source": [
    "**Выводы**\n",
    "\n",
    "Предобработка обнаружила три проблемы в данных:\n",
    "\n",
    "- нарушения в стиле заголовков,\n",
    "- пропущенные значения,\n",
    "- дубликаты — явные и неявные.\n",
    "\n",
    "Вы исправили заголовки, чтобы упростить работу с таблицей. Без дубликатов исследование станет более точным.\n",
    "\n",
    "Пропущенные значения вы заменили на `'unknown'`. Ещё предстоит увидеть, не повредят ли исследованию пропуски в колонке `genre`.\n",
    "\n",
    "Теперь можно перейти к проверке гипотез. "
   ]
  },
  {
   "cell_type": "markdown",
   "metadata": {
    "deletable": false,
    "editable": false,
    "id": "WttZHXH0SqKk"
   },
   "source": [
    "## Проверка гипотез"
   ]
  },
  {
   "cell_type": "markdown",
   "metadata": {
    "deletable": false,
    "editable": false,
    "id": "Im936VVi_Zcu"
   },
   "source": [
    "### Сравнение поведения пользователей двух столиц"
   ]
  },
  {
   "cell_type": "markdown",
   "metadata": {
    "deletable": false,
    "editable": false,
    "id": "nwt_MuaL_Zcu"
   },
   "source": [
    "Первая гипотеза утверждает, что пользователи по-разному слушают музыку в Москве и Санкт-Петербурге. Проверьте это предположение по данным о трёх днях недели — понедельнике, среде и пятнице. Для этого:\n",
    "\n",
    "* Разделите пользователей Москвы и Санкт-Петербурга.\n",
    "* Сравните, сколько треков послушала каждая группа пользователей в понедельник, среду и пятницу.\n"
   ]
  },
  {
   "cell_type": "markdown",
   "metadata": {
    "deletable": false,
    "editable": false,
    "id": "8Dw_YMmT_Zcu",
    "tags": [
     "start_task"
    ]
   },
   "source": [
    "**Задание 18**\n",
    "\n",
    "Для тренировки сначала выполните каждый из расчётов по отдельности. \n",
    "\n",
    "Оцените активность пользователей в каждом городе. Сгруппируйте данные по городу и посчитайте прослушивания в каждой группе.\n",
    "\n"
   ]
  },
  {
   "cell_type": "code",
   "execution_count": 130,
   "metadata": {
    "deletable": false,
    "id": "0_Qs96oh_Zcu"
   },
   "outputs": [
    {
     "name": "stdout",
     "output_type": "stream",
     "text": [
      "city\n",
      "Moscow              42741\n",
      "Saint-Petersburg    18512\n",
      "Name: user_id, dtype: int64\n"
     ]
    }
   ],
   "source": [
    "# Подсчёт прослушиваний в каждом городе\n",
    "df_moscow = df.groupby('city').count()\n",
    "df_moscow = df_moscow['user_id']\n",
    "print(df_moscow)"
   ]
  },
  {
   "cell_type": "markdown",
   "metadata": {
    "deletable": false,
    "editable": false,
    "id": "dzli3w8o_Zcu",
    "tags": [
     "start_task"
    ]
   },
   "source": [
    "В Москве прослушиваний больше, чем в Петербурге. Из этого не следует, что московские пользователи чаще слушают музыку. Просто самих пользователей в Москве больше.\n",
    "\n",
    "**Задание 19**\n",
    "\n",
    "Теперь сгруппируйте данные по дню недели и посчитайте прослушивания в понедельник, среду и пятницу. Учтите, что в данных есть информация о прослушиваниях только за эти дни.\n"
   ]
  },
  {
   "cell_type": "code",
   "execution_count": 131,
   "metadata": {
    "deletable": false,
    "id": "uZMKjiJz_Zcu"
   },
   "outputs": [
    {
     "data": {
      "text/plain": [
       "day\n",
       "Friday       21840\n",
       "Monday       21354\n",
       "Wednesday    18059\n",
       "Name: city, dtype: int64"
      ]
     },
     "execution_count": 131,
     "metadata": {},
     "output_type": "execute_result"
    }
   ],
   "source": [
    "# Подсчёт прослушиваний в каждый из трёх дней\n",
    "i = df.groupby('day')['city'].count()\n",
    "i"
   ]
  },
  {
   "cell_type": "markdown",
   "metadata": {
    "deletable": false,
    "editable": false,
    "id": "cC2tNrlL_Zcu"
   },
   "source": [
    "В среднем пользователи из двух городов менее активны по средам. Но картина может измениться, если рассмотреть каждый город в отдельности."
   ]
  },
  {
   "cell_type": "markdown",
   "metadata": {
    "deletable": false,
    "editable": false,
    "id": "POzs8bGa_Zcu",
    "tags": [
     "start_task"
    ]
   },
   "source": [
    "**Задание 20**\n",
    "\n",
    "\n",
    "Вы видели, как работает группировка по городу и по дням недели. Теперь напишите функцию, которая объединит два эти расчёта.\n",
    "\n",
    "Создайте функцию `number_tracks()`, которая посчитает прослушивания для заданного дня и города. Ей понадобятся два параметра:\n",
    "* день недели,\n",
    "* название города.\n",
    "\n",
    "В функции сохраните в переменную строки исходной таблицы, у которых значение:\n",
    "  * в колонке `day` равно параметру `day`,\n",
    "  * в колонке `city` равно параметру `city`.\n",
    "\n",
    "Для этого примените последовательную фильтрацию с логической индексацией (или сложные логические выражения в одну строку, если вы уже знакомы с ними).\n",
    "\n",
    "Затем посчитайте значения в столбце `user_id` получившейся таблицы. Результат сохраните в новую переменную. Верните эту переменную из функции."
   ]
  },
  {
   "cell_type": "code",
   "execution_count": 132,
   "metadata": {
    "deletable": false,
    "id": "Nz3GdQB1_Zcu"
   },
   "outputs": [
    {
     "data": {
      "text/plain": [
       "11056"
      ]
     },
     "execution_count": 132,
     "metadata": {},
     "output_type": "execute_result"
    }
   ],
   "source": [
    "# <создание функции number_tracks()>\n",
    "# Объявляется функция с двумя параметрами: day, city.\n",
    "\n",
    "def number_tracks(day, city):\n",
    "    track_list = []\n",
    "    track_list_count = 0\n",
    "    for i in range(len(df['user_id'])):\n",
    "        if df.loc[i, 'city'] == city and df.loc[i, 'day'] == day:\n",
    "            track_list_count += 1\n",
    "    return track_list_count\n",
    "\n",
    "# В переменной track_list сохраняются те строки таблицы df, для которых \n",
    "# значение в столбце 'day' равно параметру day и одновременно значение\n",
    "# в столбце 'city' равно параметру city (используйте последовательную фильтрацию\n",
    "# с помощью логической индексации или сложные логические выражения в одну строку, если вы уже знакомы с ними).\n",
    "# В переменной track_list_count сохраняется число значений столбца 'user_id',\n",
    "# рассчитанное методом count() для таблицы track_list.\n",
    "# Функция возвращает число - значение track_list_count.\n",
    "\n",
    "number_tracks('Wednesday', 'Moscow')\n",
    "\n",
    "# Функция для подсчёта прослушиваний для конкретного города и дня.\n",
    "# С помощью последовательной фильтрации с логической индексацией она \n",
    "# сначала получит из исходной таблицы строки с нужным днём,\n",
    "# затем из результата отфильтрует строки с нужным городом,\n",
    "# методом count() посчитает количество значений в колонке user_id. \n",
    "# Это количество функция вернёт в качестве результата\n"
   ]
  },
  {
   "cell_type": "markdown",
   "metadata": {
    "deletable": false,
    "editable": false,
    "id": "ytf7xFrFJQ2r",
    "tags": [
     "start_task"
    ]
   },
   "source": [
    "**Задание 21**\n",
    "\n",
    "Вызовите `number_tracks()` шесть раз, меняя значение параметров — так, чтобы получить данные для каждого города в каждый из трёх дней."
   ]
  },
  {
   "cell_type": "code",
   "execution_count": 133,
   "metadata": {
    "deletable": false,
    "id": "rJcRATNQ_Zcu"
   },
   "outputs": [
    {
     "data": {
      "text/plain": [
       "15740"
      ]
     },
     "execution_count": 133,
     "metadata": {},
     "output_type": "execute_result"
    }
   ],
   "source": [
    "# количество прослушиваний в Москве по понедельникам\n",
    "number_tracks('Monday', 'Moscow')"
   ]
  },
  {
   "cell_type": "code",
   "execution_count": 134,
   "metadata": {
    "deletable": false,
    "id": "hq_ncZ5T_Zcu"
   },
   "outputs": [
    {
     "data": {
      "text/plain": [
       "5614"
      ]
     },
     "execution_count": 134,
     "metadata": {},
     "output_type": "execute_result"
    }
   ],
   "source": [
    "# количество прослушиваний в Санкт-Петербурге по понедельникам\n",
    "number_tracks('Monday', 'Saint-Petersburg')"
   ]
  },
  {
   "cell_type": "code",
   "execution_count": 135,
   "metadata": {
    "deletable": false,
    "id": "_NTy2VPU_Zcu"
   },
   "outputs": [
    {
     "data": {
      "text/plain": [
       "11056"
      ]
     },
     "execution_count": 135,
     "metadata": {},
     "output_type": "execute_result"
    }
   ],
   "source": [
    "# количество прослушиваний в Москве по средам\n",
    "number_tracks('Wednesday', 'Moscow')"
   ]
  },
  {
   "cell_type": "code",
   "execution_count": 136,
   "metadata": {
    "deletable": false,
    "id": "j2y3TAwo_Zcu"
   },
   "outputs": [
    {
     "data": {
      "text/plain": [
       "7003"
      ]
     },
     "execution_count": 136,
     "metadata": {},
     "output_type": "execute_result"
    }
   ],
   "source": [
    "# количество прослушиваний в Санкт-Петербурге по средам\n",
    "number_tracks('Wednesday', 'Saint-Petersburg')"
   ]
  },
  {
   "cell_type": "code",
   "execution_count": 137,
   "metadata": {
    "deletable": false,
    "id": "vYDw5u_K_Zcu"
   },
   "outputs": [
    {
     "data": {
      "text/plain": [
       "15945"
      ]
     },
     "execution_count": 137,
     "metadata": {},
     "output_type": "execute_result"
    }
   ],
   "source": [
    "# количество прослушиваний в Москве по пятницам\n",
    "number_tracks('Friday', 'Moscow')"
   ]
  },
  {
   "cell_type": "code",
   "execution_count": 138,
   "metadata": {
    "deletable": false,
    "id": "8_yzFtW3_Zcu"
   },
   "outputs": [
    {
     "data": {
      "text/plain": [
       "5895"
      ]
     },
     "execution_count": 138,
     "metadata": {},
     "output_type": "execute_result"
    }
   ],
   "source": [
    "# количество прослушиваний в Санкт-Петербурге по пятницам\n",
    "number_tracks('Friday', 'Saint-Petersburg')"
   ]
  },
  {
   "cell_type": "markdown",
   "metadata": {
    "deletable": false,
    "editable": false,
    "id": "7QXffbO-_Zcu",
    "tags": [
     "start_task"
    ]
   },
   "source": [
    "**Задание 22**\n",
    "\n",
    "Создайте c помощью конструктора `pd.DataFrame` таблицу, где\n",
    "* названия колонок — `['city', 'monday', 'wednesday', 'friday']`;\n",
    "* данные — результаты, которые вы получили с помощью `number_tracks`."
   ]
  },
  {
   "cell_type": "code",
   "execution_count": 139,
   "metadata": {
    "deletable": false,
    "id": "APAcLpOr_Zcu"
   },
   "outputs": [
    {
     "name": "stdout",
     "output_type": "stream",
     "text": [
      "<class 'pandas.core.frame.DataFrame'>\n"
     ]
    },
    {
     "data": {
      "text/html": [
       "<div>\n",
       "<style scoped>\n",
       "    .dataframe tbody tr th:only-of-type {\n",
       "        vertical-align: middle;\n",
       "    }\n",
       "\n",
       "    .dataframe tbody tr th {\n",
       "        vertical-align: top;\n",
       "    }\n",
       "\n",
       "    .dataframe thead th {\n",
       "        text-align: right;\n",
       "    }\n",
       "</style>\n",
       "<table border=\"1\" class=\"dataframe\">\n",
       "  <thead>\n",
       "    <tr style=\"text-align: right;\">\n",
       "      <th></th>\n",
       "      <th>city</th>\n",
       "      <th>monday</th>\n",
       "      <th>wednesday</th>\n",
       "      <th>friday</th>\n",
       "    </tr>\n",
       "  </thead>\n",
       "  <tbody>\n",
       "    <tr>\n",
       "      <th>0</th>\n",
       "      <td>Moscow</td>\n",
       "      <td>15740</td>\n",
       "      <td>11056</td>\n",
       "      <td>15945</td>\n",
       "    </tr>\n",
       "    <tr>\n",
       "      <th>1</th>\n",
       "      <td>Saint-Petersburg</td>\n",
       "      <td>5614</td>\n",
       "      <td>7003</td>\n",
       "      <td>5895</td>\n",
       "    </tr>\n",
       "  </tbody>\n",
       "</table>\n",
       "</div>"
      ],
      "text/plain": [
       "               city  monday  wednesday  friday\n",
       "0            Moscow   15740      11056   15945\n",
       "1  Saint-Petersburg    5614       7003    5895"
      ]
     },
     "execution_count": 139,
     "metadata": {},
     "output_type": "execute_result"
    }
   ],
   "source": [
    "# Таблица с результатами\n",
    "data_info = [['Moscow', 15740, 11056, 15945], ['Saint-Petersburg', 5614, 7003, 5895]]\n",
    "columns_info = ['city', 'monday', 'wednesday', 'friday']\n",
    "info = pd.DataFrame(data=data_info, columns=columns_info)\n",
    "print(type(info))\n",
    "info"
   ]
  },
  {
   "cell_type": "markdown",
   "metadata": {
    "deletable": false,
    "editable": false,
    "id": "-EgPIHYu_Zcu"
   },
   "source": [
    "**Выводы**\n",
    "\n",
    "Данные показывают разницу поведения пользователей:\n",
    "\n",
    "- В Москве пик прослушиваний приходится на понедельник и пятницу, а в среду заметен спад.\n",
    "- В Петербурге, наоборот, больше слушают музыку по средам. Активность в понедельник и пятницу здесь почти в равной мере уступает среде.\n",
    "\n",
    "Значит, данные говорят в пользу первой гипотезы."
   ]
  },
  {
   "cell_type": "markdown",
   "metadata": {
    "deletable": false,
    "editable": false,
    "id": "atZAxtq4_Zcu"
   },
   "source": [
    "### Музыка в начале и в конце недели"
   ]
  },
  {
   "cell_type": "markdown",
   "metadata": {
    "deletable": false,
    "editable": false,
    "id": "eXrQqXFH_Zcu"
   },
   "source": [
    "Согласно второй гипотезе, утром в понедельник в Москве преобладают одни жанры, а в Петербурге — другие. Так же и вечером пятницы преобладают разные жанры — в зависимости от города."
   ]
  },
  {
   "cell_type": "markdown",
   "metadata": {
    "deletable": false,
    "editable": false,
    "id": "S8UcW6Hw_Zcu",
    "tags": [
     "start_task"
    ]
   },
   "source": [
    "**Задание 23**\n",
    "\n",
    "Сохраните таблицы с данными в две переменные:\n",
    "* по Москве — в `moscow_general`;\n",
    "* по Санкт-Петербургу — в `spb_general`."
   ]
  },
  {
   "cell_type": "code",
   "execution_count": 140,
   "metadata": {
    "deletable": false,
    "id": "qeaFfM_P_Zcu"
   },
   "outputs": [],
   "source": [
    "# получение таблицы moscow_general из тех строк таблицы df, \n",
    "# для которых значение в столбце 'city' равно 'Moscow'\n",
    "\n",
    "df = df.sort_values(by = 'day')\n",
    "moscow_general = df[df['city'] == 'Moscow']\n"
   ]
  },
  {
   "cell_type": "code",
   "execution_count": 141,
   "metadata": {
    "deletable": false,
    "id": "ORaVRKto_Zcu"
   },
   "outputs": [],
   "source": [
    "# получение таблицы spb_general из тех строк таблицы df,\n",
    "# для которых значение в столбце 'city' равно 'Saint-Petersburg'\n",
    "spb_general = df[df['city'] == 'Saint-Petersburg']\n"
   ]
  },
  {
   "cell_type": "markdown",
   "metadata": {
    "deletable": false,
    "editable": false,
    "id": "MEJV-CX2_Zcu",
    "tags": [
     "start_task"
    ]
   },
   "source": [
    "**Задание 24**\n",
    "\n",
    "Создайте функцию `genre_weekday()` с четырьмя параметрами:\n",
    "* таблица (датафрейм) с данными,\n",
    "* день недели,\n",
    "* начальная временная метка в формате 'hh:mm', \n",
    "* последняя временная метка в формате 'hh:mm'.\n",
    "\n",
    "Функция должна вернуть информацию о топ-10 жанров тех треков, которые прослушивали в указанный день, в промежутке между двумя отметками времени."
   ]
  },
  {
   "cell_type": "code",
   "execution_count": 148,
   "metadata": {
    "deletable": false,
    "id": "laJT9BYl_Zcu"
   },
   "outputs": [
    {
     "data": {
      "text/plain": [
       "genre\n",
       "pop            999\n",
       "dance          731\n",
       "rock           636\n",
       "electronic     627\n",
       "hiphop         366\n",
       "ruspop         250\n",
       "rusrap         230\n",
       "alternative    222\n",
       "world          217\n",
       "classical      197\n",
       "Name: genre, dtype: int64"
      ]
     },
     "execution_count": 148,
     "metadata": {},
     "output_type": "execute_result"
    }
   ],
   "source": [
    "# Объявление функции genre_weekday() с параметрами table, day, time1, time2,\n",
    "# которая возвращает информацию о самых популярных жанрах в указанный день в\n",
    "# заданное время:\n",
    "# 1) в переменную genre_df сохраняются те строки переданного датафрейма table, для\n",
    "#    которых одновременно:\n",
    "#    - значение в столбце day равно значению аргумента day\n",
    "#    - значение в столбце time больше значения аргумента time1\n",
    "#    - значение в столбце time меньше значения аргумента time2\n",
    "#    Используйте последовательную фильтрацию с помощью логической индексации.\n",
    "# 2) сгруппировать датафрейм genre_df по столбцу genre, взять один из его\n",
    "#    столбцов и посчитать методом count() количество записей для каждого из\n",
    "#    присутствующих жанров, получившийся Series записать в переменную\n",
    "#    genre_df_count\n",
    "# 3) отсортировать genre_df_count по убыванию встречаемости и сохранить\n",
    "#    в переменную genre_df_sorted\n",
    "# 4) вернуть Series из 10 первых значений genre_df_sorted, это будут топ-10\n",
    "#    популярных жанров (в указанный день, в заданное время)\n",
    "\n",
    "def genre_weekday(df, day, time1, time2):\n",
    "    # последовательная фильтрация\n",
    "    # оставляем в genre_df только те строки df, у которых день равен day\n",
    "    genre_df = df[df['day'] == day] # ваш код здесь\n",
    "    # оставляем в genre_df только те строки genre_df, у которых время меньше time2\n",
    "    genre_df = genre_df[genre_df['time'] < time2] # ваш код здесь\n",
    "    # оставляем в genre_df только те строки genre_df, у которых время больше time1\n",
    "    genre_df = genre_df[genre_df['time'] > time1] # ваш код здесь\n",
    "    genre_df_grouped = genre_df.groupby('genre')['genre'].count() # ваш код здесь\n",
    "    # отсортируем результат по убыванию (чтобы в начале Series оказались самые популярные жанры)\n",
    "    genre_df_sorted = genre_df_grouped.sort_values(ascending=False)  # ваш код здесь\n",
    "    # вернём Series с 10 самыми популярными жанрами в указанный отрезок времени заданного дня\n",
    "    return genre_df_sorted[:10]\n",
    "genre_weekday(df, 'Monday', '07:00', '11:00')"
   ]
  },
  {
   "cell_type": "markdown",
   "metadata": {
    "deletable": false,
    "editable": false,
    "id": "la2s2_PF_Zcu",
    "tags": [
     "start_task"
    ]
   },
   "source": [
    "**Задание 25**\n",
    "\n",
    "\n",
    "Cравните результаты функции `genre_weekday()` для Москвы и Санкт-Петербурга в понедельник утром (с 7:00 до 11:00) и в пятницу вечером (с 17:00 до 23:00):"
   ]
  },
  {
   "cell_type": "code",
   "execution_count": 149,
   "metadata": {
    "deletable": false,
    "id": "yz7itPUQ_Zcu"
   },
   "outputs": [
    {
     "data": {
      "text/plain": [
       "genre\n",
       "pop            781\n",
       "dance          549\n",
       "electronic     480\n",
       "rock           474\n",
       "hiphop         286\n",
       "ruspop         186\n",
       "world          181\n",
       "rusrap         175\n",
       "alternative    164\n",
       "unknown        161\n",
       "Name: genre, dtype: int64"
      ]
     },
     "execution_count": 149,
     "metadata": {},
     "output_type": "execute_result"
    }
   ],
   "source": [
    "# вызов функции для утра понедельника в Москве (вместо df — таблица moscow_general)\n",
    "# объекты, хранящие время, являются строками и сравниваются как строки\n",
    "# пример вызова: genre_weekday(moscow_general, 'Monday', '07:00', '11:00')\n",
    "genre_weekday(moscow_general, 'Monday', '07:00', '11:00')"
   ]
  },
  {
   "cell_type": "code",
   "execution_count": 150,
   "metadata": {
    "deletable": false,
    "id": "kwUcHPdy_Zcu"
   },
   "outputs": [
    {
     "data": {
      "text/plain": [
       "genre\n",
       "pop            218\n",
       "dance          182\n",
       "rock           162\n",
       "electronic     147\n",
       "hiphop          80\n",
       "ruspop          64\n",
       "alternative     58\n",
       "rusrap          55\n",
       "jazz            44\n",
       "classical       40\n",
       "Name: genre, dtype: int64"
      ]
     },
     "execution_count": 150,
     "metadata": {},
     "output_type": "execute_result"
    }
   ],
   "source": [
    "# вызов функции для утра понедельника в Петербурге (вместо df — таблица spb_general)\n",
    "genre_weekday(spb_general, 'Monday', '07:00', '11:00')"
   ]
  },
  {
   "cell_type": "code",
   "execution_count": 151,
   "metadata": {
    "deletable": false,
    "id": "EzXVRE1o_Zcu"
   },
   "outputs": [
    {
     "data": {
      "text/plain": [
       "genre\n",
       "pop            713\n",
       "rock           517\n",
       "dance          495\n",
       "electronic     482\n",
       "hiphop         273\n",
       "world          208\n",
       "ruspop         170\n",
       "alternative    163\n",
       "classical      163\n",
       "rusrap         142\n",
       "Name: genre, dtype: int64"
      ]
     },
     "execution_count": 151,
     "metadata": {},
     "output_type": "execute_result"
    }
   ],
   "source": [
    "# вызов функции для вечера пятницы в Москве\n",
    "genre_weekday(moscow_general, 'Friday', '17:00', '23:00')"
   ]
  },
  {
   "cell_type": "code",
   "execution_count": 152,
   "metadata": {
    "deletable": false,
    "id": "JZaEKu5v_Zcu"
   },
   "outputs": [
    {
     "data": {
      "text/plain": [
       "genre\n",
       "pop            256\n",
       "electronic     216\n",
       "rock           216\n",
       "dance          210\n",
       "hiphop          97\n",
       "alternative     63\n",
       "jazz            61\n",
       "classical       60\n",
       "rusrap          59\n",
       "world           54\n",
       "Name: genre, dtype: int64"
      ]
     },
     "execution_count": 152,
     "metadata": {},
     "output_type": "execute_result"
    }
   ],
   "source": [
    "# вызов функции для вечера пятницы в Петербурге\n",
    "genre_weekday(spb_general, 'Friday', '17:00', '23:00')"
   ]
  },
  {
   "cell_type": "markdown",
   "metadata": {
    "deletable": false,
    "editable": false,
    "id": "wrCe4MNX_Zcu"
   },
   "source": [
    "**Выводы**\n",
    "\n",
    "Если сравнить топ-10 жанров в понедельник утром, можно сделать такие выводы:\n",
    "\n",
    "1. В Москве и Петербурге слушают похожую музыку. Единственное отличие — в московский рейтинг вошёл жанр “world”, а в петербургский — джаз и классика.\n",
    "\n",
    "2. В Москве пропущенных значений оказалось так много, что значение `'unknown'` заняло десятое место среди самых популярных жанров. Значит, пропущенные значения занимают существенную долю в данных и угрожают достоверности исследования.\n",
    "\n",
    "Вечер пятницы не меняет эту картину. Некоторые жанры поднимаются немного выше, другие спускаются, но в целом топ-10 остаётся тем же самым.\n",
    "\n",
    "Таким образом, вторая гипотеза подтвердилась лишь частично:\n",
    "* Пользователи слушают похожую музыку в начале недели и в конце.\n",
    "* Разница между Москвой и Петербургом не слишком выражена. В Москве чаще слушают русскую популярную музыку, в Петербурге — джаз.\n",
    "\n",
    "Однако пропуски в данных ставят под сомнение этот результат. В Москве их так много, что рейтинг топ-10 мог бы выглядеть иначе, если бы не утерянные  данные о жанрах."
   ]
  },
  {
   "cell_type": "markdown",
   "metadata": {
    "deletable": false,
    "editable": false,
    "id": "JolODAqr_Zcu"
   },
   "source": [
    "### Жанровые предпочтения в Москве и Петербурге\n",
    "\n",
    "Гипотеза: Петербург — столица рэпа, музыку этого жанра там слушают чаще, чем в Москве.  А Москва — город контрастов, в котором, тем не менее, преобладает поп-музыка."
   ]
  },
  {
   "cell_type": "markdown",
   "metadata": {
    "deletable": false,
    "editable": false,
    "id": "DlegSvaT_Zcu",
    "tags": [
     "start_task"
    ]
   },
   "source": [
    "**Задание 26**\n",
    "\n",
    "Сгруппируйте таблицу `moscow_general` по жанру и посчитайте прослушивания треков каждого жанра методом `count()`. Затем отсортируйте результат в порядке убывания и сохраните его в таблице `moscow_genres`."
   ]
  },
  {
   "cell_type": "code",
   "execution_count": 157,
   "metadata": {
    "deletable": false,
    "id": "r19lIPke_Zcu"
   },
   "outputs": [],
   "source": [
    "# одной строкой: группировка таблицы moscow_general по столбцу 'genre', \n",
    "# подсчёт числа значений 'genre' в этой группировке методом count(),\n",
    "moscow_genres = moscow_general.groupby('genre')['genre'].count().sort_values(ascending=False)\n",
    "# сортировка получившегося Series в порядке убывания и сохранение в moscow_genres"
   ]
  },
  {
   "cell_type": "markdown",
   "metadata": {
    "deletable": false,
    "editable": false,
    "id": "6kMuomxTiIr8",
    "tags": [
     "start_task"
    ]
   },
   "source": [
    "**Задание 27**\n",
    "\n",
    "Выведите на экран первые десять строк `moscow_genres`:"
   ]
  },
  {
   "cell_type": "code",
   "execution_count": 158,
   "metadata": {
    "deletable": false,
    "id": "WhCSooF8_Zcv"
   },
   "outputs": [
    {
     "data": {
      "text/plain": [
       "genre\n",
       "pop            5892\n",
       "dance          4435\n",
       "rock           3965\n",
       "electronic     3786\n",
       "hiphop         2096\n",
       "classical      1616\n",
       "world          1432\n",
       "alternative    1379\n",
       "ruspop         1372\n",
       "rusrap         1161\n",
       "Name: genre, dtype: int64"
      ]
     },
     "metadata": {},
     "output_type": "display_data"
    }
   ],
   "source": [
    "# просмотр первых 10 строк moscow_genres\n",
    "moscow_genres.head(10)"
   ]
  },
  {
   "cell_type": "markdown",
   "metadata": {
    "deletable": false,
    "editable": false,
    "id": "cnPG2vnN_Zcv",
    "tags": [
     "start_task"
    ]
   },
   "source": [
    "**Задание 28**\n",
    "\n",
    "\n",
    "Теперь повторите то же и для Петербурга.\n",
    "\n",
    "Сгруппируйте таблицу `spb_general` по жанру. Посчитайте прослушивания треков каждого жанра. Результат отсортируйте в порядке убывания и сохраните в таблице `spb_genres`:\n"
   ]
  },
  {
   "cell_type": "code",
   "execution_count": 165,
   "metadata": {
    "deletable": false,
    "id": "gluLIpE7_Zcv"
   },
   "outputs": [],
   "source": [
    "# одной строкой: группировка таблицы spb_general по столбцу 'genre', \n",
    "# подсчёт числа значений 'genre' в этой группировке методом count(), \n",
    "# сортировка получившегося Series в порядке убывания и сохранение в spb_genres\n",
    "spb_genres = spb_general.groupby('genre')['genre'].count().sort_values(ascending = False)\n"
   ]
  },
  {
   "cell_type": "markdown",
   "metadata": {
    "deletable": false,
    "editable": false,
    "id": "5Doha_ODgyQ8",
    "tags": [
     "start_task"
    ]
   },
   "source": [
    "**Задание 29**\n",
    "\n",
    "Выведите на экран первые десять строк `spb_genres`:"
   ]
  },
  {
   "cell_type": "code",
   "execution_count": 166,
   "metadata": {
    "deletable": false,
    "id": "uaGJHjVU_Zcv"
   },
   "outputs": [
    {
     "data": {
      "text/plain": [
       "genre\n",
       "pop            2431\n",
       "dance          1932\n",
       "rock           1879\n",
       "electronic     1736\n",
       "hiphop          960\n",
       "alternative     649\n",
       "classical       646\n",
       "rusrap          564\n",
       "ruspop          538\n",
       "world           515\n",
       "Name: genre, dtype: int64"
      ]
     },
     "execution_count": 166,
     "metadata": {},
     "output_type": "execute_result"
    }
   ],
   "source": [
    "# просмотр первых 10 строк spb_genres\n",
    "spb_genres.head(10)"
   ]
  },
  {
   "cell_type": "markdown",
   "metadata": {
    "deletable": false,
    "editable": false,
    "id": "RY51YJYu_Zcv"
   },
   "source": [
    "**Выводы**"
   ]
  },
  {
   "cell_type": "markdown",
   "metadata": {
    "deletable": false,
    "editable": false,
    "id": "nVhnJEm__Zcv"
   },
   "source": [
    "Гипотеза частично подтвердилась:\n",
    "* Поп-музыка — самый популярный жанр в Москве, как и предполагала гипотеза. Более того, в топ-10 жанров встречается близкий жанр — русская популярная музыка.\n",
    "* Вопреки ожиданиям, рэп одинаково популярен в Москве и Петербурге. \n"
   ]
  },
  {
   "cell_type": "markdown",
   "metadata": {
    "deletable": false,
    "editable": false,
    "id": "ykKQ0N65_Zcv"
   },
   "source": [
    "## Итоги исследования"
   ]
  },
  {
   "cell_type": "markdown",
   "metadata": {
    "deletable": false,
    "editable": false,
    "id": "tjUwbHb3_Zcv"
   },
   "source": [
    "Вы проверили три гипотезы и установили:\n",
    "\n",
    "1. День недели по-разному влияет на активность пользователей в Москве и Петербурге. \n",
    "\n",
    "Первая гипотеза полностью подтвердилась.\n",
    "\n",
    "2. Музыкальные предпочтения не сильно меняются в течение недели — будь то Москва или Петербург. Небольшие различия заметны в начале недели, по понедельникам:\n",
    "* в Москве слушают музыку жанра “world”,\n",
    "* в Петербурге — джаз и классику.\n",
    "\n",
    "Таким образом, вторая гипотеза подтвердилась лишь отчасти. Этот результат мог оказаться иным, если бы не пропуски в данных.\n",
    "\n",
    "3. Во вкусах пользователей Москвы и Петербурга больше общего чем различий. Вопреки ожиданиям, предпочтения жанров в Петербурге напоминают московские.\n",
    "\n",
    "Третья гипотеза не подтвердилась. Если различия в предпочтениях и существуют, на основной массе пользователей они незаметны.\n",
    "\n",
    "**На практике исследования содержат проверки статистических гипотез.**\n",
    "Из данных одного сервиса не всегда можно сделать вывод о всех жителях города.\n",
    "Проверки статистических гипотез покажут, насколько они достоверны, исходя из имеющихся данных. \n",
    "С методами проверок гипотез вы ещё познакомитесь в следующих темах."
   ]
  }
 ],
 "metadata": {
  "ExecuteTimeLog": [
   {
    "duration": 116,
    "start_time": "2022-07-16T14:56:01.673Z"
   },
   {
    "duration": 412,
    "start_time": "2022-07-16T14:56:11.548Z"
   },
   {
    "duration": 129,
    "start_time": "2022-07-16T14:59:08.180Z"
   },
   {
    "duration": 45,
    "start_time": "2022-07-16T14:59:37.752Z"
   },
   {
    "duration": 461,
    "start_time": "2022-07-16T15:00:38.062Z"
   },
   {
    "duration": 17,
    "start_time": "2022-07-16T15:01:36.915Z"
   },
   {
    "duration": 39,
    "start_time": "2022-07-16T15:03:26.737Z"
   },
   {
    "duration": 2,
    "start_time": "2022-07-16T15:07:31.282Z"
   },
   {
    "duration": 2,
    "start_time": "2022-07-16T15:10:52.113Z"
   },
   {
    "duration": 24,
    "start_time": "2022-07-16T15:10:59.678Z"
   },
   {
    "duration": 6,
    "start_time": "2022-07-16T15:12:04.867Z"
   },
   {
    "duration": 212,
    "start_time": "2022-07-16T15:40:11.444Z"
   },
   {
    "duration": 170,
    "start_time": "2022-07-16T15:40:40.981Z"
   },
   {
    "duration": 121,
    "start_time": "2022-07-16T15:40:52.523Z"
   },
   {
    "duration": 153,
    "start_time": "2022-07-16T15:40:59.522Z"
   },
   {
    "duration": 158,
    "start_time": "2022-07-16T15:41:57.347Z"
   },
   {
    "duration": 15,
    "start_time": "2022-07-16T15:42:52.203Z"
   },
   {
    "duration": 17,
    "start_time": "2022-07-16T15:43:02.972Z"
   },
   {
    "duration": 11,
    "start_time": "2022-07-16T15:43:41.374Z"
   },
   {
    "duration": 4,
    "start_time": "2022-07-16T15:44:37.489Z"
   },
   {
    "duration": 14,
    "start_time": "2022-07-16T15:46:55.099Z"
   },
   {
    "duration": 11,
    "start_time": "2022-07-16T16:07:04.273Z"
   },
   {
    "duration": 21,
    "start_time": "2022-07-16T16:07:36.987Z"
   },
   {
    "duration": 29,
    "start_time": "2022-07-16T16:25:56.374Z"
   },
   {
    "duration": 65,
    "start_time": "2022-07-16T16:29:52.597Z"
   },
   {
    "duration": 68,
    "start_time": "2022-07-16T16:30:12.999Z"
   },
   {
    "duration": 62,
    "start_time": "2022-07-16T16:30:22.522Z"
   },
   {
    "duration": 80,
    "start_time": "2022-07-16T16:33:07.933Z"
   },
   {
    "duration": 64,
    "start_time": "2022-07-16T16:34:50.678Z"
   },
   {
    "duration": 46,
    "start_time": "2022-07-16T20:56:51.274Z"
   },
   {
    "duration": 6,
    "start_time": "2022-07-16T20:58:34.425Z"
   },
   {
    "duration": 7,
    "start_time": "2022-07-16T20:59:39.282Z"
   },
   {
    "duration": 7,
    "start_time": "2022-07-16T20:59:59.421Z"
   },
   {
    "duration": 6,
    "start_time": "2022-07-16T21:00:11.715Z"
   },
   {
    "duration": 354,
    "start_time": "2022-07-16T21:01:12.256Z"
   },
   {
    "duration": 169,
    "start_time": "2022-07-16T21:01:15.398Z"
   },
   {
    "duration": 17,
    "start_time": "2022-07-16T21:01:17.843Z"
   },
   {
    "duration": 29,
    "start_time": "2022-07-16T21:01:22.219Z"
   },
   {
    "duration": 2,
    "start_time": "2022-07-16T21:01:25.639Z"
   },
   {
    "duration": 5,
    "start_time": "2022-07-16T21:01:34.324Z"
   },
   {
    "duration": 15,
    "start_time": "2022-07-16T21:01:36.703Z"
   },
   {
    "duration": 5,
    "start_time": "2022-07-16T21:01:39.146Z"
   },
   {
    "duration": 39,
    "start_time": "2022-07-16T21:01:41.568Z"
   },
   {
    "duration": 38,
    "start_time": "2022-07-16T21:01:44.581Z"
   },
   {
    "duration": 24,
    "start_time": "2022-07-16T21:01:46.193Z"
   },
   {
    "duration": 75,
    "start_time": "2022-07-16T21:01:47.784Z"
   },
   {
    "duration": 95,
    "start_time": "2022-07-16T21:01:48.939Z"
   },
   {
    "duration": 63,
    "start_time": "2022-07-16T21:01:50.392Z"
   },
   {
    "duration": 44,
    "start_time": "2022-07-16T21:01:55.555Z"
   },
   {
    "duration": 5,
    "start_time": "2022-07-16T21:05:47.787Z"
   },
   {
    "duration": 12,
    "start_time": "2022-07-16T21:06:02.917Z"
   },
   {
    "duration": 17,
    "start_time": "2022-07-16T21:09:44.656Z"
   },
   {
    "duration": 7,
    "start_time": "2022-07-16T21:46:51.433Z"
   },
   {
    "duration": 31,
    "start_time": "2022-07-16T21:48:44.036Z"
   },
   {
    "duration": 10,
    "start_time": "2022-07-16T21:49:53.889Z"
   },
   {
    "duration": 10,
    "start_time": "2022-07-16T21:58:29.065Z"
   },
   {
    "duration": 36,
    "start_time": "2022-07-16T21:58:41.590Z"
   },
   {
    "duration": 37,
    "start_time": "2022-07-16T21:58:44.690Z"
   },
   {
    "duration": 40,
    "start_time": "2022-07-16T21:59:05.681Z"
   },
   {
    "duration": 38,
    "start_time": "2022-07-16T22:03:01.427Z"
   },
   {
    "duration": 44,
    "start_time": "2022-07-16T22:03:29.997Z"
   },
   {
    "duration": 7,
    "start_time": "2022-07-16T22:13:11.782Z"
   },
   {
    "duration": 6,
    "start_time": "2022-07-16T22:13:51.775Z"
   },
   {
    "duration": 7,
    "start_time": "2022-07-16T22:14:19.672Z"
   },
   {
    "duration": 8,
    "start_time": "2022-07-16T22:14:32.097Z"
   },
   {
    "duration": 17,
    "start_time": "2022-07-16T22:14:52.145Z"
   },
   {
    "duration": 89,
    "start_time": "2022-07-16T22:16:43.620Z"
   },
   {
    "duration": 7,
    "start_time": "2022-07-16T22:18:56.227Z"
   },
   {
    "duration": 39,
    "start_time": "2022-07-16T22:19:25.137Z"
   },
   {
    "duration": 39,
    "start_time": "2022-07-16T22:19:59.413Z"
   },
   {
    "duration": 43,
    "start_time": "2022-07-17T01:27:26.135Z"
   },
   {
    "duration": 5,
    "start_time": "2022-07-17T01:27:53.378Z"
   },
   {
    "duration": 8,
    "start_time": "2022-07-17T01:28:51.767Z"
   },
   {
    "duration": 6,
    "start_time": "2022-07-17T01:29:11.345Z"
   },
   {
    "duration": 361,
    "start_time": "2022-07-17T01:29:36.772Z"
   },
   {
    "duration": 218,
    "start_time": "2022-07-17T01:29:37.729Z"
   },
   {
    "duration": 18,
    "start_time": "2022-07-17T01:29:38.188Z"
   },
   {
    "duration": 31,
    "start_time": "2022-07-17T01:29:38.634Z"
   },
   {
    "duration": 3,
    "start_time": "2022-07-17T01:29:39.227Z"
   },
   {
    "duration": 3,
    "start_time": "2022-07-17T01:29:40.010Z"
   },
   {
    "duration": 10,
    "start_time": "2022-07-17T01:29:40.401Z"
   },
   {
    "duration": 4,
    "start_time": "2022-07-17T01:29:40.795Z"
   },
   {
    "duration": 25,
    "start_time": "2022-07-17T01:29:41.129Z"
   },
   {
    "duration": 39,
    "start_time": "2022-07-17T01:29:41.904Z"
   },
   {
    "duration": 26,
    "start_time": "2022-07-17T01:29:42.265Z"
   },
   {
    "duration": 65,
    "start_time": "2022-07-17T01:29:42.672Z"
   },
   {
    "duration": 82,
    "start_time": "2022-07-17T01:29:43.122Z"
   },
   {
    "duration": 57,
    "start_time": "2022-07-17T01:29:43.545Z"
   },
   {
    "duration": 39,
    "start_time": "2022-07-17T01:29:44.186Z"
   },
   {
    "duration": 80,
    "start_time": "2022-07-17T01:29:44.612Z"
   },
   {
    "duration": 38,
    "start_time": "2022-07-17T01:29:45.770Z"
   },
   {
    "duration": 3,
    "start_time": "2022-07-17T01:29:48.842Z"
   },
   {
    "duration": 3,
    "start_time": "2022-07-17T01:30:11.304Z"
   },
   {
    "duration": 3,
    "start_time": "2022-07-17T01:30:14.340Z"
   },
   {
    "duration": 31,
    "start_time": "2022-07-17T01:30:37.001Z"
   },
   {
    "duration": 35,
    "start_time": "2022-07-17T02:00:39.409Z"
   },
   {
    "duration": 3,
    "start_time": "2022-07-17T02:06:07.035Z"
   },
   {
    "duration": 10,
    "start_time": "2022-07-17T02:06:20.748Z"
   },
   {
    "duration": 10,
    "start_time": "2022-07-17T02:07:01.396Z"
   },
   {
    "duration": 3,
    "start_time": "2022-07-17T02:09:31.156Z"
   },
   {
    "duration": 6,
    "start_time": "2022-07-17T02:12:54.032Z"
   },
   {
    "duration": 32,
    "start_time": "2022-07-17T02:19:35.859Z"
   },
   {
    "duration": 12,
    "start_time": "2022-07-17T02:20:42.735Z"
   },
   {
    "duration": 9,
    "start_time": "2022-07-17T02:22:37.626Z"
   },
   {
    "duration": 13,
    "start_time": "2022-07-17T02:23:15.658Z"
   },
   {
    "duration": 4,
    "start_time": "2022-07-17T02:27:46.577Z"
   },
   {
    "duration": 4,
    "start_time": "2022-07-17T02:28:27.434Z"
   },
   {
    "duration": 13,
    "start_time": "2022-07-17T02:28:39.541Z"
   },
   {
    "duration": 12,
    "start_time": "2022-07-17T02:28:55.810Z"
   },
   {
    "duration": 3,
    "start_time": "2022-07-17T02:43:18.433Z"
   },
   {
    "duration": 4,
    "start_time": "2022-07-17T02:43:21.781Z"
   },
   {
    "duration": 8,
    "start_time": "2022-07-17T02:44:20.257Z"
   },
   {
    "duration": 7,
    "start_time": "2022-07-17T02:45:54.943Z"
   },
   {
    "duration": 56,
    "start_time": "2022-07-17T02:51:33.520Z"
   },
   {
    "duration": 44,
    "start_time": "2022-07-17T02:51:37.048Z"
   },
   {
    "duration": 58,
    "start_time": "2022-07-17T02:51:47.002Z"
   },
   {
    "duration": 59,
    "start_time": "2022-07-17T02:52:51.201Z"
   },
   {
    "duration": 84,
    "start_time": "2022-07-17T02:53:00.279Z"
   },
   {
    "duration": 87,
    "start_time": "2022-07-17T02:53:19.326Z"
   },
   {
    "duration": 106,
    "start_time": "2022-07-17T03:10:52.355Z"
   },
   {
    "duration": 150,
    "start_time": "2022-07-17T03:11:07.159Z"
   },
   {
    "duration": 2,
    "start_time": "2022-07-17T03:29:17.964Z"
   },
   {
    "duration": 175,
    "start_time": "2022-07-17T03:29:18.361Z"
   },
   {
    "duration": 10,
    "start_time": "2022-07-17T03:29:18.658Z"
   },
   {
    "duration": 27,
    "start_time": "2022-07-17T03:29:19.136Z"
   },
   {
    "duration": 2,
    "start_time": "2022-07-17T03:29:19.591Z"
   },
   {
    "duration": 3,
    "start_time": "2022-07-17T03:29:20.452Z"
   },
   {
    "duration": 6,
    "start_time": "2022-07-17T03:29:20.931Z"
   },
   {
    "duration": 4,
    "start_time": "2022-07-17T03:29:21.329Z"
   },
   {
    "duration": 29,
    "start_time": "2022-07-17T03:29:21.716Z"
   },
   {
    "duration": 39,
    "start_time": "2022-07-17T03:29:22.291Z"
   },
   {
    "duration": 30,
    "start_time": "2022-07-17T03:29:22.717Z"
   },
   {
    "duration": 58,
    "start_time": "2022-07-17T03:29:23.330Z"
   },
   {
    "duration": 69,
    "start_time": "2022-07-17T03:29:23.882Z"
   },
   {
    "duration": 59,
    "start_time": "2022-07-17T03:29:24.281Z"
   },
   {
    "duration": 38,
    "start_time": "2022-07-17T03:29:24.937Z"
   },
   {
    "duration": 80,
    "start_time": "2022-07-17T03:29:25.442Z"
   },
   {
    "duration": 46,
    "start_time": "2022-07-17T03:29:25.897Z"
   },
   {
    "duration": 34,
    "start_time": "2022-07-17T03:29:27.786Z"
   },
   {
    "duration": 11,
    "start_time": "2022-07-17T03:29:30.656Z"
   },
   {
    "duration": 62,
    "start_time": "2022-07-17T03:33:15.946Z"
   },
   {
    "duration": 8,
    "start_time": "2022-07-17T03:33:23.686Z"
   },
   {
    "duration": 776,
    "start_time": "2022-07-17T03:33:56.942Z"
   },
   {
    "duration": 861,
    "start_time": "2022-07-17T03:34:11.888Z"
   },
   {
    "duration": 1978,
    "start_time": "2022-07-17T03:35:01.146Z"
   },
   {
    "duration": 950,
    "start_time": "2022-07-17T03:35:27.091Z"
   },
   {
    "duration": 79,
    "start_time": "2022-07-17T03:36:53.961Z"
   },
   {
    "duration": 9,
    "start_time": "2022-07-17T03:37:04.509Z"
   },
   {
    "duration": 3,
    "start_time": "2022-07-17T03:37:34.481Z"
   },
   {
    "duration": 6,
    "start_time": "2022-07-17T03:37:53.121Z"
   },
   {
    "duration": 837,
    "start_time": "2022-07-17T03:37:57.526Z"
   },
   {
    "duration": 866,
    "start_time": "2022-07-17T03:39:20.791Z"
   },
   {
    "duration": 51,
    "start_time": "2022-07-17T03:40:05.952Z"
   },
   {
    "duration": 854,
    "start_time": "2022-07-17T03:40:41.872Z"
   },
   {
    "duration": 888,
    "start_time": "2022-07-17T03:41:31.377Z"
   },
   {
    "duration": 8,
    "start_time": "2022-07-17T03:41:50.797Z"
   },
   {
    "duration": 6,
    "start_time": "2022-07-17T03:42:25.198Z"
   },
   {
    "duration": 7760,
    "start_time": "2022-07-17T03:42:45.819Z"
   },
   {
    "duration": 21,
    "start_time": "2022-07-17T03:43:01.966Z"
   },
   {
    "duration": 374,
    "start_time": "2022-07-17T03:43:29.488Z"
   },
   {
    "duration": 628,
    "start_time": "2022-07-17T03:44:12.671Z"
   },
   {
    "duration": 793,
    "start_time": "2022-07-17T03:46:40.136Z"
   },
   {
    "duration": 729,
    "start_time": "2022-07-17T03:46:56.711Z"
   },
   {
    "duration": 608,
    "start_time": "2022-07-17T03:47:24.917Z"
   },
   {
    "duration": 834,
    "start_time": "2022-07-17T03:52:49.325Z"
   },
   {
    "duration": 647,
    "start_time": "2022-07-17T03:53:23.623Z"
   },
   {
    "duration": 11,
    "start_time": "2022-07-17T03:54:21.806Z"
   },
   {
    "duration": 553,
    "start_time": "2022-07-17T03:54:56.696Z"
   },
   {
    "duration": 6,
    "start_time": "2022-07-17T03:55:45.155Z"
   },
   {
    "duration": 628,
    "start_time": "2022-07-17T03:56:03.674Z"
   },
   {
    "duration": 472,
    "start_time": "2022-07-17T03:57:26.054Z"
   },
   {
    "duration": 610,
    "start_time": "2022-07-17T03:58:19.242Z"
   },
   {
    "duration": 628,
    "start_time": "2022-07-17T03:59:04.569Z"
   },
   {
    "duration": 489,
    "start_time": "2022-07-17T03:59:53.997Z"
   },
   {
    "duration": 380,
    "start_time": "2022-07-17T13:31:46.273Z"
   },
   {
    "duration": 405,
    "start_time": "2022-07-17T13:31:47.950Z"
   },
   {
    "duration": 15,
    "start_time": "2022-07-17T13:31:48.608Z"
   },
   {
    "duration": 24,
    "start_time": "2022-07-17T13:31:49.224Z"
   },
   {
    "duration": 2,
    "start_time": "2022-07-17T13:31:49.820Z"
   },
   {
    "duration": 4,
    "start_time": "2022-07-17T13:31:50.424Z"
   },
   {
    "duration": 10,
    "start_time": "2022-07-17T13:31:50.754Z"
   },
   {
    "duration": 4,
    "start_time": "2022-07-17T13:31:51.080Z"
   },
   {
    "duration": 20,
    "start_time": "2022-07-17T13:31:51.395Z"
   },
   {
    "duration": 30,
    "start_time": "2022-07-17T13:31:51.904Z"
   },
   {
    "duration": 20,
    "start_time": "2022-07-17T13:31:52.256Z"
   },
   {
    "duration": 55,
    "start_time": "2022-07-17T13:31:52.647Z"
   },
   {
    "duration": 65,
    "start_time": "2022-07-17T13:31:53.031Z"
   },
   {
    "duration": 54,
    "start_time": "2022-07-17T13:31:53.452Z"
   },
   {
    "duration": 32,
    "start_time": "2022-07-17T13:31:54.065Z"
   },
   {
    "duration": 64,
    "start_time": "2022-07-17T13:31:54.465Z"
   },
   {
    "duration": 31,
    "start_time": "2022-07-17T13:31:54.833Z"
   },
   {
    "duration": 23,
    "start_time": "2022-07-17T13:31:56.505Z"
   },
   {
    "duration": 10,
    "start_time": "2022-07-17T13:31:57.943Z"
   },
   {
    "duration": 524,
    "start_time": "2022-07-17T13:31:58.883Z"
   },
   {
    "duration": 541,
    "start_time": "2022-07-17T13:32:02.034Z"
   },
   {
    "duration": 415,
    "start_time": "2022-07-17T13:32:02.787Z"
   },
   {
    "duration": 541,
    "start_time": "2022-07-17T13:32:03.548Z"
   },
   {
    "duration": 411,
    "start_time": "2022-07-17T13:32:04.192Z"
   },
   {
    "duration": 596,
    "start_time": "2022-07-17T13:32:04.838Z"
   },
   {
    "duration": 416,
    "start_time": "2022-07-17T13:32:05.643Z"
   },
   {
    "duration": 61,
    "start_time": "2022-07-17T13:40:36.269Z"
   },
   {
    "duration": 11,
    "start_time": "2022-07-17T13:44:20.069Z"
   },
   {
    "duration": 11,
    "start_time": "2022-07-17T13:44:30.530Z"
   },
   {
    "duration": 8,
    "start_time": "2022-07-17T13:53:14.698Z"
   },
   {
    "duration": 3,
    "start_time": "2022-07-17T13:58:10.982Z"
   },
   {
    "duration": 4,
    "start_time": "2022-07-17T13:58:24.199Z"
   },
   {
    "duration": 5,
    "start_time": "2022-07-17T14:00:14.819Z"
   },
   {
    "duration": 5,
    "start_time": "2022-07-17T14:28:43.001Z"
   },
   {
    "duration": 6,
    "start_time": "2022-07-17T14:29:02.625Z"
   },
   {
    "duration": 8,
    "start_time": "2022-07-17T14:29:09.642Z"
   },
   {
    "duration": 5,
    "start_time": "2022-07-17T14:29:19.697Z"
   },
   {
    "duration": 4,
    "start_time": "2022-07-17T14:29:53.362Z"
   },
   {
    "duration": 6,
    "start_time": "2022-07-17T14:30:31.174Z"
   },
   {
    "duration": 8,
    "start_time": "2022-07-17T14:30:48.062Z"
   },
   {
    "duration": 9,
    "start_time": "2022-07-17T14:31:05.310Z"
   },
   {
    "duration": 9,
    "start_time": "2022-07-17T14:33:09.915Z"
   },
   {
    "duration": 5,
    "start_time": "2022-07-17T14:33:27.020Z"
   },
   {
    "duration": 3,
    "start_time": "2022-07-17T14:33:36.387Z"
   },
   {
    "duration": 10,
    "start_time": "2022-07-17T14:34:05.770Z"
   },
   {
    "duration": 7,
    "start_time": "2022-07-17T14:35:11.914Z"
   },
   {
    "duration": 7,
    "start_time": "2022-07-17T14:35:20.361Z"
   },
   {
    "duration": 4,
    "start_time": "2022-07-17T14:38:03.889Z"
   },
   {
    "duration": 11,
    "start_time": "2022-07-17T14:43:23.728Z"
   },
   {
    "duration": 8,
    "start_time": "2022-07-17T14:43:41.063Z"
   },
   {
    "duration": 7,
    "start_time": "2022-07-17T14:44:44.297Z"
   },
   {
    "duration": 8,
    "start_time": "2022-07-17T14:45:08.276Z"
   },
   {
    "duration": 10,
    "start_time": "2022-07-17T14:47:07.401Z"
   },
   {
    "duration": 8,
    "start_time": "2022-07-17T14:48:31.826Z"
   },
   {
    "duration": 9,
    "start_time": "2022-07-17T14:49:12.396Z"
   },
   {
    "duration": 8,
    "start_time": "2022-07-17T14:49:17.872Z"
   },
   {
    "duration": 7,
    "start_time": "2022-07-17T14:49:19.084Z"
   },
   {
    "duration": 2,
    "start_time": "2022-07-17T14:53:14.349Z"
   },
   {
    "duration": 140,
    "start_time": "2022-07-17T14:53:15.754Z"
   },
   {
    "duration": 9,
    "start_time": "2022-07-17T14:53:16.217Z"
   },
   {
    "duration": 22,
    "start_time": "2022-07-17T14:53:16.801Z"
   },
   {
    "duration": 2,
    "start_time": "2022-07-17T14:53:17.381Z"
   },
   {
    "duration": 4,
    "start_time": "2022-07-17T14:53:18.307Z"
   },
   {
    "duration": 6,
    "start_time": "2022-07-17T14:53:18.778Z"
   },
   {
    "duration": 4,
    "start_time": "2022-07-17T14:53:19.259Z"
   },
   {
    "duration": 20,
    "start_time": "2022-07-17T14:53:19.754Z"
   },
   {
    "duration": 28,
    "start_time": "2022-07-17T14:53:20.475Z"
   },
   {
    "duration": 22,
    "start_time": "2022-07-17T14:53:20.968Z"
   },
   {
    "duration": 53,
    "start_time": "2022-07-17T14:53:21.468Z"
   },
   {
    "duration": 58,
    "start_time": "2022-07-17T14:53:21.952Z"
   },
   {
    "duration": 49,
    "start_time": "2022-07-17T14:53:22.401Z"
   },
   {
    "duration": 32,
    "start_time": "2022-07-17T14:53:23.178Z"
   },
   {
    "duration": 58,
    "start_time": "2022-07-17T14:53:24.219Z"
   },
   {
    "duration": 36,
    "start_time": "2022-07-17T14:53:24.700Z"
   },
   {
    "duration": 25,
    "start_time": "2022-07-17T14:53:30.684Z"
   },
   {
    "duration": 9,
    "start_time": "2022-07-17T14:53:32.083Z"
   },
   {
    "duration": 576,
    "start_time": "2022-07-17T14:53:34.165Z"
   },
   {
    "duration": 561,
    "start_time": "2022-07-17T14:53:36.160Z"
   },
   {
    "duration": 469,
    "start_time": "2022-07-17T14:53:36.723Z"
   },
   {
    "duration": 597,
    "start_time": "2022-07-17T14:53:37.193Z"
   },
   {
    "duration": 432,
    "start_time": "2022-07-17T14:53:37.792Z"
   },
   {
    "duration": 549,
    "start_time": "2022-07-17T14:53:38.225Z"
   },
   {
    "duration": 430,
    "start_time": "2022-07-17T14:53:38.775Z"
   },
   {
    "duration": 8,
    "start_time": "2022-07-17T14:53:39.206Z"
   },
   {
    "duration": 7,
    "start_time": "2022-07-17T14:56:18.765Z"
   },
   {
    "duration": 3,
    "start_time": "2022-07-17T14:56:45.572Z"
   },
   {
    "duration": 5,
    "start_time": "2022-07-17T14:56:58.612Z"
   },
   {
    "duration": 3,
    "start_time": "2022-07-17T14:57:10.748Z"
   },
   {
    "duration": 4,
    "start_time": "2022-07-17T14:58:00.072Z"
   },
   {
    "duration": 4,
    "start_time": "2022-07-17T14:58:04.933Z"
   },
   {
    "duration": 11,
    "start_time": "2022-07-17T14:58:23.268Z"
   },
   {
    "duration": 4,
    "start_time": "2022-07-17T14:59:54.235Z"
   },
   {
    "duration": 4,
    "start_time": "2022-07-17T15:00:07.020Z"
   },
   {
    "duration": 4,
    "start_time": "2022-07-17T15:00:13.196Z"
   },
   {
    "duration": 8,
    "start_time": "2022-07-17T15:03:41.149Z"
   },
   {
    "duration": 9,
    "start_time": "2022-07-17T15:04:28.662Z"
   },
   {
    "duration": 4,
    "start_time": "2022-07-17T15:05:03.603Z"
   },
   {
    "duration": 9,
    "start_time": "2022-07-17T15:05:20.442Z"
   },
   {
    "duration": 75,
    "start_time": "2022-07-17T15:06:21.115Z"
   },
   {
    "duration": 8,
    "start_time": "2022-07-17T15:06:25.859Z"
   },
   {
    "duration": 6,
    "start_time": "2022-07-17T15:21:16.593Z"
   },
   {
    "duration": 7,
    "start_time": "2022-07-17T15:22:25.515Z"
   },
   {
    "duration": 2,
    "start_time": "2022-07-17T15:24:40.977Z"
   },
   {
    "duration": 5,
    "start_time": "2022-07-17T15:24:54.139Z"
   },
   {
    "duration": 4,
    "start_time": "2022-07-17T15:25:03.883Z"
   },
   {
    "duration": 12,
    "start_time": "2022-07-17T15:31:13.776Z"
   },
   {
    "duration": 49,
    "start_time": "2022-07-17T15:31:43.187Z"
   },
   {
    "duration": 53,
    "start_time": "2022-07-17T15:32:26.165Z"
   },
   {
    "duration": 44,
    "start_time": "2022-07-17T15:33:40.939Z"
   },
   {
    "duration": 47,
    "start_time": "2022-07-17T15:34:04.914Z"
   },
   {
    "duration": 83,
    "start_time": "2022-07-17T15:46:08.704Z"
   },
   {
    "duration": 55,
    "start_time": "2022-07-17T15:47:25.583Z"
   },
   {
    "duration": 76,
    "start_time": "2022-07-17T15:47:55.467Z"
   },
   {
    "duration": 47,
    "start_time": "2022-07-17T15:47:59.568Z"
   },
   {
    "duration": 1180,
    "start_time": "2022-07-17T15:48:22.679Z"
   },
   {
    "duration": 1202,
    "start_time": "2022-07-17T15:48:40.795Z"
   },
   {
    "duration": 9,
    "start_time": "2022-07-17T15:50:34.435Z"
   },
   {
    "duration": 10,
    "start_time": "2022-07-17T15:50:40.415Z"
   },
   {
    "duration": 63,
    "start_time": "2022-07-17T15:51:08.814Z"
   },
   {
    "duration": 463,
    "start_time": "2022-07-17T16:03:33.789Z"
   },
   {
    "duration": 57,
    "start_time": "2022-07-17T16:04:21.881Z"
   },
   {
    "duration": 54,
    "start_time": "2022-07-17T16:05:28.090Z"
   },
   {
    "duration": 12,
    "start_time": "2022-07-17T16:22:16.955Z"
   },
   {
    "duration": 19,
    "start_time": "2022-07-17T16:22:28.178Z"
   },
   {
    "duration": 12,
    "start_time": "2022-07-17T16:24:09.411Z"
   },
   {
    "duration": 13,
    "start_time": "2022-07-17T16:24:43.533Z"
   },
   {
    "duration": 17,
    "start_time": "2022-07-17T16:25:18.828Z"
   },
   {
    "duration": 2,
    "start_time": "2022-07-17T16:26:22.170Z"
   },
   {
    "duration": 143,
    "start_time": "2022-07-17T16:26:23.293Z"
   },
   {
    "duration": 9,
    "start_time": "2022-07-17T16:26:23.779Z"
   },
   {
    "duration": 24,
    "start_time": "2022-07-17T16:26:24.220Z"
   },
   {
    "duration": 2,
    "start_time": "2022-07-17T16:26:24.865Z"
   },
   {
    "duration": 3,
    "start_time": "2022-07-17T16:26:25.712Z"
   },
   {
    "duration": 6,
    "start_time": "2022-07-17T16:26:26.119Z"
   },
   {
    "duration": 3,
    "start_time": "2022-07-17T16:26:26.533Z"
   },
   {
    "duration": 23,
    "start_time": "2022-07-17T16:26:26.983Z"
   },
   {
    "duration": 28,
    "start_time": "2022-07-17T16:26:27.615Z"
   },
   {
    "duration": 24,
    "start_time": "2022-07-17T16:26:28.066Z"
   },
   {
    "duration": 53,
    "start_time": "2022-07-17T16:26:28.482Z"
   },
   {
    "duration": 62,
    "start_time": "2022-07-17T16:26:28.886Z"
   },
   {
    "duration": 49,
    "start_time": "2022-07-17T16:26:29.325Z"
   },
   {
    "duration": 33,
    "start_time": "2022-07-17T16:26:29.983Z"
   },
   {
    "duration": 66,
    "start_time": "2022-07-17T16:26:30.437Z"
   },
   {
    "duration": 33,
    "start_time": "2022-07-17T16:26:31.171Z"
   },
   {
    "duration": 24,
    "start_time": "2022-07-17T16:26:32.575Z"
   },
   {
    "duration": 10,
    "start_time": "2022-07-17T16:26:32.927Z"
   },
   {
    "duration": 588,
    "start_time": "2022-07-17T16:26:33.728Z"
   },
   {
    "duration": 591,
    "start_time": "2022-07-17T16:26:35.379Z"
   },
   {
    "duration": 430,
    "start_time": "2022-07-17T16:26:35.972Z"
   },
   {
    "duration": 541,
    "start_time": "2022-07-17T16:26:36.403Z"
   },
   {
    "duration": 463,
    "start_time": "2022-07-17T16:26:36.945Z"
   },
   {
    "duration": 592,
    "start_time": "2022-07-17T16:26:37.411Z"
   },
   {
    "duration": 416,
    "start_time": "2022-07-17T16:26:38.004Z"
   },
   {
    "duration": 9,
    "start_time": "2022-07-17T16:26:40.179Z"
   },
   {
    "duration": 18,
    "start_time": "2022-07-17T16:26:43.894Z"
   },
   {
    "duration": 18,
    "start_time": "2022-07-17T16:26:45.418Z"
   },
   {
    "duration": 7,
    "start_time": "2022-07-17T16:28:15.316Z"
   },
   {
    "duration": 7,
    "start_time": "2022-07-17T16:28:32.238Z"
   },
   {
    "duration": 51,
    "start_time": "2022-07-17T16:28:57.604Z"
   },
   {
    "duration": 17,
    "start_time": "2022-07-17T16:29:07.040Z"
   },
   {
    "duration": 48,
    "start_time": "2022-07-17T16:29:43.113Z"
   },
   {
    "duration": 20,
    "start_time": "2022-07-17T16:29:51.431Z"
   },
   {
    "duration": 50,
    "start_time": "2022-07-17T16:32:05.047Z"
   },
   {
    "duration": 50,
    "start_time": "2022-07-17T16:32:43.585Z"
   },
   {
    "duration": 74,
    "start_time": "2022-07-17T16:33:18.787Z"
   },
   {
    "duration": 20,
    "start_time": "2022-07-17T16:33:39.899Z"
   },
   {
    "duration": 51,
    "start_time": "2022-07-17T16:34:27.122Z"
   },
   {
    "duration": 16,
    "start_time": "2022-07-17T16:34:32.577Z"
   },
   {
    "duration": 78,
    "start_time": "2022-07-17T16:35:55.585Z"
   },
   {
    "duration": 88,
    "start_time": "2022-07-17T16:36:03.617Z"
   },
   {
    "duration": 78,
    "start_time": "2022-07-17T16:36:21.576Z"
   },
   {
    "duration": 75,
    "start_time": "2022-07-17T16:36:32.735Z"
   },
   {
    "duration": 84,
    "start_time": "2022-07-17T16:38:12.389Z"
   },
   {
    "duration": 45,
    "start_time": "2022-07-17T18:53:50.407Z"
   },
   {
    "duration": 7,
    "start_time": "2022-07-17T18:53:56.580Z"
   },
   {
    "duration": 410,
    "start_time": "2022-07-17T18:54:06.409Z"
   },
   {
    "duration": 231,
    "start_time": "2022-07-17T18:54:07.957Z"
   },
   {
    "duration": 20,
    "start_time": "2022-07-17T18:54:08.464Z"
   },
   {
    "duration": 37,
    "start_time": "2022-07-17T18:54:08.640Z"
   },
   {
    "duration": 2,
    "start_time": "2022-07-17T18:54:13.487Z"
   },
   {
    "duration": 3,
    "start_time": "2022-07-17T18:54:15.524Z"
   },
   {
    "duration": 12,
    "start_time": "2022-07-17T18:54:16.001Z"
   },
   {
    "duration": 4,
    "start_time": "2022-07-17T18:54:16.583Z"
   },
   {
    "duration": 24,
    "start_time": "2022-07-17T18:54:17.087Z"
   },
   {
    "duration": 32,
    "start_time": "2022-07-17T18:54:18.682Z"
   },
   {
    "duration": 25,
    "start_time": "2022-07-17T18:54:19.148Z"
   },
   {
    "duration": 74,
    "start_time": "2022-07-17T18:54:19.593Z"
   },
   {
    "duration": 79,
    "start_time": "2022-07-17T18:54:20.076Z"
   },
   {
    "duration": 61,
    "start_time": "2022-07-17T18:54:20.648Z"
   },
   {
    "duration": 40,
    "start_time": "2022-07-17T18:54:21.831Z"
   },
   {
    "duration": 79,
    "start_time": "2022-07-17T18:54:22.550Z"
   },
   {
    "duration": 44,
    "start_time": "2022-07-17T18:54:22.976Z"
   },
   {
    "duration": 28,
    "start_time": "2022-07-17T18:54:24.661Z"
   },
   {
    "duration": 12,
    "start_time": "2022-07-17T18:54:25.089Z"
   },
   {
    "duration": 580,
    "start_time": "2022-07-17T18:54:28.316Z"
   },
   {
    "duration": 568,
    "start_time": "2022-07-17T18:54:28.899Z"
   },
   {
    "duration": 443,
    "start_time": "2022-07-17T18:54:29.469Z"
   },
   {
    "duration": 592,
    "start_time": "2022-07-17T18:54:29.913Z"
   },
   {
    "duration": 488,
    "start_time": "2022-07-17T18:54:30.509Z"
   },
   {
    "duration": 731,
    "start_time": "2022-07-17T18:54:30.999Z"
   },
   {
    "duration": 462,
    "start_time": "2022-07-17T18:54:31.732Z"
   },
   {
    "duration": 16,
    "start_time": "2022-07-17T18:54:32.648Z"
   },
   {
    "duration": 46,
    "start_time": "2022-07-17T18:54:38.571Z"
   },
   {
    "duration": 11,
    "start_time": "2022-07-17T18:54:39.454Z"
   },
   {
    "duration": 285,
    "start_time": "2022-07-17T19:07:10.691Z"
   },
   {
    "duration": 188,
    "start_time": "2022-07-17T19:07:18.180Z"
   },
   {
    "duration": 232,
    "start_time": "2022-07-17T19:10:29.938Z"
   },
   {
    "duration": 795,
    "start_time": "2022-07-17T19:11:04.746Z"
   },
   {
    "duration": 778,
    "start_time": "2022-07-17T19:11:49.970Z"
   },
   {
    "duration": 858,
    "start_time": "2022-07-17T19:12:42.485Z"
   },
   {
    "duration": 14,
    "start_time": "2022-07-17T19:13:19.681Z"
   },
   {
    "duration": 13,
    "start_time": "2022-07-17T19:13:58.863Z"
   },
   {
    "duration": 28,
    "start_time": "2022-07-17T19:14:28.612Z"
   },
   {
    "duration": 25,
    "start_time": "2022-07-17T19:16:08.767Z"
   },
   {
    "duration": 21,
    "start_time": "2022-07-17T19:16:30.090Z"
   },
   {
    "duration": 23,
    "start_time": "2022-07-17T19:16:48.090Z"
   },
   {
    "duration": 23,
    "start_time": "2022-07-17T19:17:20.571Z"
   },
   {
    "duration": 16,
    "start_time": "2022-07-17T19:18:21.823Z"
   },
   {
    "duration": 17,
    "start_time": "2022-07-17T19:18:48.987Z"
   },
   {
    "duration": 19,
    "start_time": "2022-07-17T19:19:33.729Z"
   },
   {
    "duration": 796,
    "start_time": "2022-07-17T19:20:14.454Z"
   },
   {
    "duration": 23,
    "start_time": "2022-07-17T19:21:14.800Z"
   },
   {
    "duration": 23,
    "start_time": "2022-07-17T19:21:48.091Z"
   },
   {
    "duration": 16,
    "start_time": "2022-07-17T19:22:19.875Z"
   },
   {
    "duration": 30,
    "start_time": "2022-07-17T19:23:11.015Z"
   },
   {
    "duration": 16,
    "start_time": "2022-07-17T19:24:24.927Z"
   },
   {
    "duration": 237,
    "start_time": "2022-07-17T19:25:10.909Z"
   },
   {
    "duration": 44,
    "start_time": "2022-07-17T19:26:09.021Z"
   },
   {
    "duration": 20,
    "start_time": "2022-07-17T19:26:24.714Z"
   },
   {
    "duration": 17,
    "start_time": "2022-07-17T19:27:17.320Z"
   },
   {
    "duration": 17,
    "start_time": "2022-07-17T19:34:10.541Z"
   },
   {
    "duration": 19,
    "start_time": "2022-07-17T19:34:30.326Z"
   },
   {
    "duration": 26,
    "start_time": "2022-07-17T19:34:50.270Z"
   },
   {
    "duration": 29,
    "start_time": "2022-07-17T19:36:29.068Z"
   },
   {
    "duration": 27,
    "start_time": "2022-07-17T19:37:16.828Z"
   },
   {
    "duration": 32,
    "start_time": "2022-07-17T19:37:38.385Z"
   },
   {
    "duration": 30,
    "start_time": "2022-07-17T19:38:26.220Z"
   },
   {
    "duration": 17,
    "start_time": "2022-07-17T19:38:40.860Z"
   },
   {
    "duration": 18,
    "start_time": "2022-07-17T19:38:52.459Z"
   },
   {
    "duration": 38,
    "start_time": "2022-07-17T19:39:00.821Z"
   },
   {
    "duration": 29,
    "start_time": "2022-07-17T19:40:08.508Z"
   },
   {
    "duration": 32,
    "start_time": "2022-07-17T19:40:23.869Z"
   },
   {
    "duration": 37,
    "start_time": "2022-07-17T20:01:31.440Z"
   },
   {
    "duration": 52,
    "start_time": "2022-07-17T20:02:26.844Z"
   },
   {
    "duration": 21,
    "start_time": "2022-07-17T20:02:32.867Z"
   },
   {
    "duration": 31,
    "start_time": "2022-07-17T20:05:52.125Z"
   },
   {
    "duration": 20,
    "start_time": "2022-07-17T20:07:36.541Z"
   },
   {
    "duration": 10,
    "start_time": "2022-07-17T20:07:41.022Z"
   },
   {
    "duration": 4,
    "start_time": "2022-07-17T20:08:02.659Z"
   },
   {
    "duration": 17,
    "start_time": "2022-07-17T20:08:07.301Z"
   },
   {
    "duration": 3,
    "start_time": "2022-07-17T20:09:31.013Z"
   },
   {
    "duration": 2,
    "start_time": "2022-07-17T20:09:35.747Z"
   },
   {
    "duration": 7,
    "start_time": "2022-07-17T20:09:46.827Z"
   },
   {
    "duration": 7,
    "start_time": "2022-07-17T20:12:15.239Z"
   },
   {
    "duration": 8,
    "start_time": "2022-07-17T20:12:24.839Z"
   },
   {
    "duration": 7,
    "start_time": "2022-07-17T20:12:54.479Z"
   },
   {
    "duration": 3,
    "start_time": "2022-07-17T20:13:05.040Z"
   },
   {
    "duration": 164,
    "start_time": "2022-07-17T20:13:08.279Z"
   },
   {
    "duration": 11,
    "start_time": "2022-07-17T20:13:17.839Z"
   },
   {
    "duration": 28,
    "start_time": "2022-07-17T20:13:29.358Z"
   },
   {
    "duration": 2,
    "start_time": "2022-07-17T20:13:30.972Z"
   },
   {
    "duration": 4,
    "start_time": "2022-07-17T20:13:32.199Z"
   },
   {
    "duration": 9,
    "start_time": "2022-07-17T20:13:32.559Z"
   },
   {
    "duration": 5,
    "start_time": "2022-07-17T20:13:33.145Z"
   },
   {
    "duration": 50,
    "start_time": "2022-07-17T20:13:33.153Z"
   },
   {
    "duration": 30,
    "start_time": "2022-07-17T20:13:34.280Z"
   },
   {
    "duration": 25,
    "start_time": "2022-07-17T20:13:34.680Z"
   },
   {
    "duration": 62,
    "start_time": "2022-07-17T20:13:35.039Z"
   },
   {
    "duration": 69,
    "start_time": "2022-07-17T20:13:35.103Z"
   },
   {
    "duration": 55,
    "start_time": "2022-07-17T20:13:35.520Z"
   },
   {
    "duration": 37,
    "start_time": "2022-07-17T20:13:36.240Z"
   },
   {
    "duration": 77,
    "start_time": "2022-07-17T20:13:36.599Z"
   },
   {
    "duration": 64,
    "start_time": "2022-07-17T20:13:36.960Z"
   },
   {
    "duration": 39,
    "start_time": "2022-07-17T20:13:38.320Z"
   },
   {
    "duration": 11,
    "start_time": "2022-07-17T20:13:38.719Z"
   },
   {
    "duration": 587,
    "start_time": "2022-07-17T20:13:39.596Z"
   },
   {
    "duration": 607,
    "start_time": "2022-07-17T20:13:40.185Z"
   },
   {
    "duration": 451,
    "start_time": "2022-07-17T20:13:40.794Z"
   },
   {
    "duration": 685,
    "start_time": "2022-07-17T20:13:41.247Z"
   },
   {
    "duration": 505,
    "start_time": "2022-07-17T20:13:41.933Z"
   },
   {
    "duration": 610,
    "start_time": "2022-07-17T20:13:42.482Z"
   },
   {
    "duration": 496,
    "start_time": "2022-07-17T20:13:43.095Z"
   },
   {
    "duration": 10,
    "start_time": "2022-07-17T20:13:45.799Z"
   },
   {
    "duration": 50,
    "start_time": "2022-07-17T20:13:48.118Z"
   },
   {
    "duration": 13,
    "start_time": "2022-07-17T20:13:48.680Z"
   },
   {
    "duration": 32,
    "start_time": "2022-07-17T20:13:51.560Z"
   },
   {
    "duration": 18,
    "start_time": "2022-07-17T20:13:53.087Z"
   },
   {
    "duration": 13,
    "start_time": "2022-07-17T20:13:53.680Z"
   },
   {
    "duration": 23,
    "start_time": "2022-07-17T20:13:57.199Z"
   },
   {
    "duration": 18,
    "start_time": "2022-07-17T20:14:54.479Z"
   },
   {
    "duration": 47,
    "start_time": "2022-07-17T20:19:41.177Z"
   },
   {
    "duration": 30,
    "start_time": "2022-07-17T20:24:44.075Z"
   },
   {
    "duration": 22,
    "start_time": "2022-07-17T20:24:51.556Z"
   },
   {
    "duration": 13,
    "start_time": "2022-07-17T20:24:52.880Z"
   },
   {
    "duration": 18,
    "start_time": "2022-07-17T20:24:53.857Z"
   },
   {
    "duration": 13,
    "start_time": "2022-07-17T20:24:55.316Z"
   },
   {
    "duration": 4,
    "start_time": "2022-07-17T20:33:08.593Z"
   },
   {
    "duration": 34,
    "start_time": "2022-07-17T20:33:18.642Z"
   },
   {
    "duration": 17,
    "start_time": "2022-07-17T20:34:00.022Z"
   },
   {
    "duration": 11,
    "start_time": "2022-07-17T20:35:19.770Z"
   },
   {
    "duration": 9,
    "start_time": "2022-07-17T20:35:41.038Z"
   },
   {
    "duration": 5,
    "start_time": "2022-07-17T20:36:29.128Z"
   },
   {
    "duration": 18,
    "start_time": "2022-07-17T20:39:42.778Z"
   },
   {
    "duration": 17,
    "start_time": "2022-07-17T20:39:47.469Z"
   },
   {
    "duration": 23,
    "start_time": "2022-07-17T20:39:52.869Z"
   },
   {
    "duration": 8,
    "start_time": "2022-07-17T20:40:39.286Z"
   },
   {
    "duration": 11,
    "start_time": "2022-07-17T20:42:03.271Z"
   },
   {
    "duration": 9,
    "start_time": "2022-07-17T20:42:53.037Z"
   },
   {
    "duration": 6,
    "start_time": "2022-07-17T20:43:28.354Z"
   },
   {
    "duration": 7,
    "start_time": "2022-07-17T20:44:14.920Z"
   }
  ],
  "colab": {
   "collapsed_sections": [
    "E0vqbgi9ay0H",
    "VUC88oWjTJw2"
   ],
   "name": "automatization_template_upd4.ipynb",
   "provenance": []
  },
  "kernelspec": {
   "display_name": "Python 3 (ipykernel)",
   "language": "python",
   "name": "python3"
  },
  "language_info": {
   "codemirror_mode": {
    "name": "ipython",
    "version": 3
   },
   "file_extension": ".py",
   "mimetype": "text/x-python",
   "name": "python",
   "nbconvert_exporter": "python",
   "pygments_lexer": "ipython3",
   "version": "3.9.5"
  },
  "toc": {
   "base_numbering": 1,
   "nav_menu": {
    "height": "215px",
    "width": "403px"
   },
   "number_sections": true,
   "sideBar": true,
   "skip_h1_title": true,
   "title_cell": "Table of Contents",
   "title_sidebar": "Contents",
   "toc_cell": false,
   "toc_position": {
    "height": "calc(100% - 180px)",
    "left": "10px",
    "top": "150px",
    "width": "285.825px"
   },
   "toc_section_display": true,
   "toc_window_display": false
  }
 },
 "nbformat": 4,
 "nbformat_minor": 1
}
